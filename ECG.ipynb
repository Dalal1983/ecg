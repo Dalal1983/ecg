{
  "nbformat": 4,
  "nbformat_minor": 0,
  "metadata": {
    "colab": {
      "name": "ECG.ipynb",
      "provenance": [],
      "toc_visible": true,
      "authorship_tag": "ABX9TyP9tz40gJFOu3qwOz9ViSNe",
      "include_colab_link": true
    },
    "kernelspec": {
      "name": "python3",
      "display_name": "Python 3"
    },
    "accelerator": "GPU"
  },
  "cells": [
    {
      "cell_type": "markdown",
      "metadata": {
        "id": "view-in-github",
        "colab_type": "text"
      },
      "source": [
        "<a href=\"https://colab.research.google.com/github/spdrnl/ecg/blob/master/ECG.ipynb\" target=\"_parent\"><img src=\"https://colab.research.google.com/assets/colab-badge.svg\" alt=\"Open In Colab\"/></a>"
      ]
    },
    {
      "cell_type": "code",
      "metadata": {
        "id": "AQdvBpb4mXs6",
        "colab_type": "code",
        "colab": {
          "base_uri": "https://localhost:8080/",
          "height": 34
        },
        "outputId": "32008b1a-a790-4298-e1c7-5b7770dd4597"
      },
      "source": [
        "import numpy as np\n",
        "import pandas as pd\n",
        "import tensorflow as tf\n",
        "from tensorflow import keras\n",
        "from tensorflow.keras import regularizers\n",
        "import matplotlib.pyplot as plt\n",
        "from scipy import stats\n",
        "from sklearn.model_selection import train_test_split\n",
        "from keras_lr_finder import LRFinder"
      ],
      "execution_count": 1,
      "outputs": [
        {
          "output_type": "stream",
          "text": [
            "Using TensorFlow backend.\n"
          ],
          "name": "stderr"
        }
      ]
    },
    {
      "cell_type": "markdown",
      "metadata": {
        "id": "3AYt_rm1t05F",
        "colab_type": "text"
      },
      "source": [
        "# Move data from Drive to /tmp"
      ]
    },
    {
      "cell_type": "code",
      "metadata": {
        "id": "VaSQ3JBhcSLc",
        "colab_type": "code",
        "colab": {
          "base_uri": "https://localhost:8080/",
          "height": 156
        },
        "outputId": "43ced669-e52b-4dce-a3b7-b8ae817e5273"
      },
      "source": [
        "from google.colab import drive\n",
        "drive.mount(\"/tmp/drive\")\n",
        "! unzip \"/tmp/drive/My Drive/data/29414_37484_bundle_archive.zip\" -d /tmp/ecg\n",
        "! ls /tmp/ecg"
      ],
      "execution_count": 2,
      "outputs": [
        {
          "output_type": "stream",
          "text": [
            "Drive already mounted at /tmp/drive; to attempt to forcibly remount, call drive.mount(\"/tmp/drive\", force_remount=True).\n",
            "Archive:  /tmp/drive/My Drive/data/29414_37484_bundle_archive.zip\n",
            "replace /tmp/ecg/mitbih_test.csv? [y]es, [n]o, [A]ll, [N]one, [r]ename: A\n",
            "  inflating: /tmp/ecg/mitbih_test.csv  \n",
            "  inflating: /tmp/ecg/mitbih_train.csv  \n",
            "  inflating: /tmp/ecg/ptbdb_abnormal.csv  \n",
            "  inflating: /tmp/ecg/ptbdb_normal.csv  \n",
            "mitbih_test.csv  mitbih_train.csv  ptbdb_abnormal.csv  ptbdb_normal.csv\n"
          ],
          "name": "stdout"
        }
      ]
    },
    {
      "cell_type": "markdown",
      "metadata": {
        "id": "PAfWSZ-juFhH",
        "colab_type": "text"
      },
      "source": [
        "# Import and analyse data\n",
        "## MIT-BIH Arrhythmia dataset"
      ]
    },
    {
      "cell_type": "code",
      "metadata": {
        "id": "lEbD2ZHqd_15",
        "colab_type": "code",
        "colab": {}
      },
      "source": [
        "mitbih_test = pd.read_csv(\"/tmp/ecg/mitbih_test.csv\", header=None)\n",
        "mitbih_train = pd.read_csv(\"/tmp/ecg/mitbih_train.csv\", header=None)"
      ],
      "execution_count": 3,
      "outputs": []
    },
    {
      "cell_type": "code",
      "metadata": {
        "id": "XGNOR3yKLw13",
        "colab_type": "code",
        "colab": {}
      },
      "source": [
        "mitbih_labels = {'N': 0, 'S': 1, 'V': 2, 'F': 3, 'Q': 4}\n",
        "mitbih_reverse_labels = {v:k for k,v in mitbih_labels.items()}\n",
        "mitbih_train['labels'] = mitbih_train.iloc[:,-1].replace(mitbih_reverse_labels)\n",
        "mitbih_test['labels'] = mitbih_test.iloc[:,-1].replace(mitbih_reverse_labels)"
      ],
      "execution_count": 4,
      "outputs": []
    },
    {
      "cell_type": "code",
      "metadata": {
        "id": "oHg6KmF-L8bT",
        "colab_type": "code",
        "colab": {
          "base_uri": "https://localhost:8080/",
          "height": 52
        },
        "outputId": "9d349a32-1b7c-44b4-8314-61e44db362bb"
      },
      "source": [
        "print(\"There are {} nan values in the train data.\".format(mitbih_train.isna().sum().sum()))\n",
        "print(\"There are {} nan values in the test data.\".format(mitbih_test.isna().sum().sum()))"
      ],
      "execution_count": 5,
      "outputs": [
        {
          "output_type": "stream",
          "text": [
            "There are 0 nan values in the train data.\n",
            "There are 0 nan values in the test data.\n"
          ],
          "name": "stdout"
        }
      ]
    },
    {
      "cell_type": "code",
      "metadata": {
        "id": "tLcS_NqpUU4I",
        "colab_type": "code",
        "colab": {
          "base_uri": "https://localhost:8080/",
          "height": 34
        },
        "outputId": "b15c68d5-6513-4cf6-9abb-1941b9275f7f"
      },
      "source": [
        "print(\"The minimum and maximum values are {}, {}\".format(np.min(mitbih_train.iloc[:,:-2].values), np.max(mitbih_train.iloc[:,:-2].values)))"
      ],
      "execution_count": 6,
      "outputs": [
        {
          "output_type": "stream",
          "text": [
            "The minimum and maximum values are 0.0, 1.0\n"
          ],
          "name": "stdout"
        }
      ]
    },
    {
      "cell_type": "code",
      "metadata": {
        "id": "9GmdAoaFL6zY",
        "colab_type": "code",
        "colab": {
          "base_uri": "https://localhost:8080/",
          "height": 298
        },
        "outputId": "9c97e8ec-0301-4027-c3b5-ac8fde05aca9"
      },
      "source": [
        "plt.hist(mitbih_train['labels'])\n",
        "plt.title(\"Distribution of labels in MIT-BIH Arrhythmia dataset\")"
      ],
      "execution_count": 7,
      "outputs": [
        {
          "output_type": "execute_result",
          "data": {
            "text/plain": [
              "Text(0.5, 1.0, 'Distribution of labels in MIT-BIH Arrhythmia dataset')"
            ]
          },
          "metadata": {
            "tags": []
          },
          "execution_count": 7
        },
        {
          "output_type": "display_data",
          "data": {
            "image/png": "[encoded data removed]",
            "text/plain": [
              "<Figure size 432x288 with 1 Axes>"
            ]
          },
          "metadata": {
            "tags": [],
            "needs_background": "light"
          }
        }
      ]
    },
    {
      "cell_type": "code",
      "metadata": {
        "id": "H7X2ku6zMZuf",
        "colab_type": "code",
        "colab": {
          "base_uri": "https://localhost:8080/",
          "height": 312
        },
        "outputId": "8b27a4f0-ffa7-4c98-a605-39972dde6ec5"
      },
      "source": [
        "plt.plot(mitbih_train.iloc[0,:-2])\n",
        "plt.xlabel('Time')\n",
        "plt.ylabel('Normalized activation')\n",
        "plt.title(\"MIT-BIH Arrhythmia Dataset example signal\")"
      ],
      "execution_count": 8,
      "outputs": [
        {
          "output_type": "execute_result",
          "data": {
            "text/plain": [
              "Text(0.5, 1.0, 'MIT-BIH Arrhythmia Dataset example signal')"
            ]
          },
          "metadata": {
            "tags": []
          },
          "execution_count": 8
        },
        {
          "output_type": "display_data",
          "data": {
            "image/png": "[encoded data removed]",
            "text/plain": [
              "<Figure size 432x288 with 1 Axes>"
            ]
          },
          "metadata": {
            "tags": [],
            "needs_background": "light"
          }
        }
      ]
    },
    {
      "cell_type": "markdown",
      "metadata": {
        "id": "w9JvmNtEMbqS",
        "colab_type": "text"
      },
      "source": [
        "## PTB Diagnostic ECG Database"
      ]
    },
    {
      "cell_type": "code",
      "metadata": {
        "id": "uDLcl7fcj3pe",
        "colab_type": "code",
        "colab": {}
      },
      "source": [
        "ptbdb_abnormal = pd.read_csv(\"/tmp/ecg/ptbdb_abnormal.csv\", header=None)\n",
        "ptbdb_normal = pd.read_csv(\"/tmp/ecg/ptbdb_normal.csv\", header=None)"
      ],
      "execution_count": 9,
      "outputs": []
    },
    {
      "cell_type": "code",
      "metadata": {
        "id": "uCAgfoGvMgwI",
        "colab_type": "code",
        "colab": {}
      },
      "source": [
        "ptbdb_labels = {'Normal': 0, 'Abnormal': 1}\n",
        "ptbdb_reverse_labels = {v:k for k,v in ptbdb_labels.items()}\n",
        "ptbdb = pd.concat([ptbdb_abnormal, ptbdb_normal], axis=0, ignore_index=True)\n",
        "ptbdb['labels'] = ptbdb.iloc[:,-1].replace(ptbdb_reverse_labels)"
      ],
      "execution_count": 10,
      "outputs": []
    },
    {
      "cell_type": "code",
      "metadata": {
        "id": "9YnB8h1oVGJR",
        "colab_type": "code",
        "colab": {
          "base_uri": "https://localhost:8080/",
          "height": 52
        },
        "outputId": "696a3a2c-412a-4cca-cbf4-29ed38ca8e27"
      },
      "source": [
        "print(\"There are {} nan values in the train data.\".format(mitbih_train.isna().sum().sum()))\n",
        "print(\"There are {} nan values in the test data.\".format(mitbih_test.isna().sum().sum()))"
      ],
      "execution_count": 11,
      "outputs": [
        {
          "output_type": "stream",
          "text": [
            "There are 0 nan values in the train data.\n",
            "There are 0 nan values in the test data.\n"
          ],
          "name": "stdout"
        }
      ]
    },
    {
      "cell_type": "code",
      "metadata": {
        "id": "9slvgU52VH7w",
        "colab_type": "code",
        "colab": {
          "base_uri": "https://localhost:8080/",
          "height": 34
        },
        "outputId": "290e22cb-6f2e-4967-d870-34c62f99d326"
      },
      "source": [
        "print(\"The minimum and maximum values are {}, {}\".format(np.min(ptbdb.iloc[:,:-2].values), np.max(ptbdb.iloc[:,:-2].values)))"
      ],
      "execution_count": 12,
      "outputs": [
        {
          "output_type": "stream",
          "text": [
            "The minimum and maximum values are 0.0, 1.0\n"
          ],
          "name": "stdout"
        }
      ]
    },
    {
      "cell_type": "code",
      "metadata": {
        "id": "o9JjK_HkMg9S",
        "colab_type": "code",
        "colab": {
          "base_uri": "https://localhost:8080/",
          "height": 298
        },
        "outputId": "bb04ee15-0647-4b13-d840-9d8e5aeec335"
      },
      "source": [
        "plt.hist(ptbdb['labels'], bins=2)\n",
        "plt.title(\"Distribution of the PTB Diagnostic ECG Database labels\")"
      ],
      "execution_count": 13,
      "outputs": [
        {
          "output_type": "execute_result",
          "data": {
            "text/plain": [
              "Text(0.5, 1.0, 'Distribution of the PTB Diagnostic ECG Database labels')"
            ]
          },
          "metadata": {
            "tags": []
          },
          "execution_count": 13
        },
        {
          "output_type": "display_data",
          "data": {
            "image/png": "[encoded data removed]",
            "text/plain": [
              "<Figure size 432x288 with 1 Axes>"
            ]
          },
          "metadata": {
            "tags": [],
            "needs_background": "light"
          }
        }
      ]
    },
    {
      "cell_type": "code",
      "metadata": {
        "id": "QrZqr4sv7Ayw",
        "colab_type": "code",
        "colab": {
          "base_uri": "https://localhost:8080/",
          "height": 312
        },
        "outputId": "6201f759-a577-4bf3-9779-8fae2a3a62be"
      },
      "source": [
        "plt.plot(ptbdb.iloc[0,:-2])\n",
        "plt.xlabel('Time')\n",
        "plt.ylabel('Normalized activation')\n",
        "plt.title(\"PTB Diagnostic ECG Database example signal\")"
      ],
      "execution_count": 14,
      "outputs": [
        {
          "output_type": "execute_result",
          "data": {
            "text/plain": [
              "Text(0.5, 1.0, 'PTB Diagnostic ECG Database example signal')"
            ]
          },
          "metadata": {
            "tags": []
          },
          "execution_count": 14
        },
        {
          "output_type": "display_data",
          "data": {
            "image/png": "[encoded data removed]",
            "text/plain": [
              "<Figure size 432x288 with 1 Axes>"
            ]
          },
          "metadata": {
            "tags": [],
            "needs_background": "light"
          }
        }
      ]
    },
    {
      "cell_type": "markdown",
      "metadata": {
        "id": "a9T05yrLMr-M",
        "colab_type": "text"
      },
      "source": [
        "## Creating datasets"
      ]
    },
    {
      "cell_type": "code",
      "metadata": {
        "id": "UFuZ1WV7hxXb",
        "colab_type": "code",
        "colab": {
          "base_uri": "https://localhost:8080/",
          "height": 69
        },
        "outputId": "2b6c8b1f-50a8-4d35-9fff-ff48e59d7ae4"
      },
      "source": [
        "print(ptbdb.shape)\n",
        "print(mitbih_train.shape)\n",
        "print(mitbih_test.shape)"
      ],
      "execution_count": 15,
      "outputs": [
        {
          "output_type": "stream",
          "text": [
            "(14552, 189)\n",
            "(87554, 189)\n",
            "(21892, 189)\n"
          ],
          "name": "stdout"
        }
      ]
    },
    {
      "cell_type": "code",
      "metadata": {
        "id": "IgK8oQ2SJouW",
        "colab_type": "code",
        "colab": {}
      },
      "source": [
        "X_mitbih_train = mitbih_train.iloc[:,:-2].values\n",
        "y_mitbih_train = mitbih_train.iloc[:,-2].values\n",
        "\n",
        "X_mitbih_test = mitbih_test.iloc[:,:-2].values\n",
        "y_mitbih_test = mitbih_test.iloc[:,-2].values\n",
        "\n",
        "X_ptbdb_train, X_ptbdb_test, y_ptbdb_train, y_ptbdb_test = train_test_split(ptbdb.iloc[:,:-2].values, ptbdb.iloc[:,-2].values, test_size=0.2, random_state=42)\n",
        "X_ptbdb_train, X_ptbdb_val, y_ptbdb_train, y_ptbdb_val = train_test_split(X_ptbdb_train, y_ptbdb_train, test_size=0.2, random_state=42)\n"
      ],
      "execution_count": 16,
      "outputs": []
    },
    {
      "cell_type": "markdown",
      "metadata": {
        "id": "gmIZYT531ECh",
        "colab_type": "text"
      },
      "source": [
        "# Baseline MLP"
      ]
    },
    {
      "cell_type": "code",
      "metadata": {
        "id": "Pe_yCVYMtnq9",
        "colab_type": "code",
        "colab": {}
      },
      "source": [
        "# Copied from https://github.com/avanwyk/tensorflow-projects/blob/master/lr-finder/lr_finder.py\n",
        "# Apache License 2.0\n",
        "\n",
        "from tensorflow.keras.callbacks import Callback\n",
        "\n",
        "class LRFinder(Callback):\n",
        "    \"\"\"`Callback` that exponentially adjusts the learning rate after each training batch between `start_lr` and\n",
        "    `end_lr` for a maximum number of batches: `max_step`. The loss and learning rate are recorded at each step allowing\n",
        "    visually finding a good learning rate as per https://sgugger.github.io/how-do-you-find-a-good-learning-rate.html via\n",
        "    the `plot` method.\n",
        "    \"\"\"\n",
        "\n",
        "    def __init__(self, start_lr: float = 1e-7, end_lr: float = 10, max_steps: int = 100, smoothing=0.9):\n",
        "        super(LRFinder, self).__init__()\n",
        "        self.start_lr, self.end_lr = start_lr, end_lr\n",
        "        self.max_steps = max_steps\n",
        "        self.smoothing = smoothing\n",
        "        self.step, self.best_loss, self.avg_loss, self.lr = 0, 0, 0, 0\n",
        "        self.lrs, self.losses = [], []\n",
        "\n",
        "    def on_train_begin(self, logs=None):\n",
        "        self.step, self.best_loss, self.avg_loss, self.lr = 0, 0, 0, 0\n",
        "        self.lrs, self.losses = [], []\n",
        "\n",
        "    def on_train_batch_begin(self, batch, logs=None):\n",
        "        self.lr = self.exp_annealing(self.step)\n",
        "        tf.keras.backend.set_value(self.model.optimizer.lr, self.lr)\n",
        "\n",
        "    def on_train_batch_end(self, batch, logs=None):\n",
        "        logs = logs or {}\n",
        "        loss = logs.get('loss')\n",
        "        step = self.step\n",
        "        if loss:\n",
        "            self.avg_loss = self.smoothing * self.avg_loss + (1 - self.smoothing) * loss\n",
        "            smooth_loss = self.avg_loss / (1 - self.smoothing ** (self.step + 1))\n",
        "            self.losses.append(smooth_loss)\n",
        "            self.lrs.append(self.lr)\n",
        "\n",
        "            if step == 0 or loss < self.best_loss:\n",
        "                self.best_loss = loss\n",
        "\n",
        "            if smooth_loss > 4 * self.best_loss or tf.math.is_nan(smooth_loss):\n",
        "                self.model.stop_training = True\n",
        "\n",
        "        if step == self.max_steps:\n",
        "            self.model.stop_training = True\n",
        "\n",
        "        self.step += 1\n",
        "\n",
        "    def exp_annealing(self, step):\n",
        "        return self.start_lr * (self.end_lr / self.start_lr) ** (step * 1. / self.max_steps)\n",
        "\n",
        "    def plot(self):\n",
        "        fig, ax = plt.subplots(1, 1)\n",
        "        ax.set_ylabel('Loss')\n",
        "        ax.set_xlabel('Learning Rate (log scale)')\n",
        "        ax.set_xscale('log')\n",
        "        ax.xaxis.set_major_formatter(plt.FormatStrFormatter('%.0e'))\n",
        "        ax.plot(self.lrs, self.losses)"
      ],
      "execution_count": 17,
      "outputs": []
    },
    {
      "cell_type": "code",
      "metadata": {
        "id": "KGhPt8XrNk8p",
        "colab_type": "code",
        "colab": {}
      },
      "source": [
        "def get_base_model():\n",
        "  return keras.Sequential([\n",
        "    keras.layers.Dense(15, activation='relu', input_shape=[187], kernel_regularizer=regularizers.l2(0.0001)),\n",
        "    keras.layers.Dense(10, activation='relu', kernel_regularizer=regularizers.l2(0.0001)),\n",
        "    keras.layers.Dense(5, activation='relu'),\n",
        "    keras.layers.Dense(1, activation='sigmoid')                  \n",
        "  ])"
      ],
      "execution_count": 52,
      "outputs": []
    },
    {
      "cell_type": "code",
      "metadata": {
        "id": "kqQ3Ijqjwmhn",
        "colab_type": "code",
        "colab": {
          "base_uri": "https://localhost:8080/",
          "height": 279
        },
        "outputId": "2b059a36-8fdc-465d-f558-591282968d65"
      },
      "source": [
        "optimizer = keras.optimizers.SGD(lr=0.001)\n",
        "model = get_base_model() \n",
        "model.compile(optimizer=optimizer, loss='binary_crossentropy', metrics=['accuracy'])\n",
        "\n",
        "lr_finder = LRFinder(start_lr=1e-4, end_lr= 1e0, max_steps=100, smoothing=0.6)\n",
        "_ = model.fit(X_ptbdb_train, y_ptbdb_train, batch_size=256, epochs=5, callbacks=[lr_finder], verbose=False)\n",
        "lr_finder.plot()"
      ],
      "execution_count": 53,
      "outputs": [
        {
          "output_type": "display_data",
          "data": {
            "image/png": "[encoded data removed]",
            "text/plain": [
              "<Figure size 432x288 with 1 Axes>"
            ]
          },
          "metadata": {
            "tags": [],
            "needs_background": "light"
          }
        }
      ]
    },
    {
      "cell_type": "code",
      "metadata": {
        "id": "D5qxnAd7lmpZ",
        "colab_type": "code",
        "colab": {
          "base_uri": "https://localhost:8080/",
          "height": 1000
        },
        "outputId": "f4e03816-5963-4497-e518-662501af2649"
      },
      "source": [
        "N = X_ptbdb_train.shape[0]\n",
        "batch_size = 128\n",
        "iterations = N/batch_size\n",
        "step_size= 2 * iterations\n",
        "\n",
        "from tensorflow_addons.optimizers import CyclicalLearningRate\n",
        "lr_schedule = CyclicalLearningRate(5e-3, 1e-1, step_size=step_size, scale_fn=lambda x: tf.pow(0.95,x))\n",
        "optimizer=tf.keras.optimizers.SGD(learning_rate=lr_schedule)\n",
        "model = get_base_model() \n",
        "model.compile(optimizer=optimizer, loss='binary_crossentropy', metrics=['accuracy'])\n",
        "history = model.fit(X_ptbdb_train, y_ptbdb_train, validation_data=(X_ptbdb_val, y_ptbdb_val), batch_size=batch_size, epochs=300)"
      ],
      "execution_count": 58,
      "outputs": [
        {
          "output_type": "stream",
          "text": [
            "Epoch 1/300\n",
            "73/73 [==============================] - 0s 6ms/step - loss: 0.6555 - accuracy: 0.6597 - val_loss: 0.5973 - val_accuracy: 0.7222\n",
            "Epoch 2/300\n",
            "73/73 [==============================] - 0s 5ms/step - loss: 0.5817 - accuracy: 0.7168 - val_loss: 0.5598 - val_accuracy: 0.7222\n",
            "Epoch 3/300\n",
            "73/73 [==============================] - 0s 4ms/step - loss: 0.5401 - accuracy: 0.7168 - val_loss: 0.5154 - val_accuracy: 0.7222\n",
            "Epoch 4/300\n",
            "73/73 [==============================] - 0s 5ms/step - loss: 0.5027 - accuracy: 0.7166 - val_loss: 0.4926 - val_accuracy: 0.7205\n",
            "Epoch 5/300\n",
            "73/73 [==============================] - 0s 5ms/step - loss: 0.4865 - accuracy: 0.7191 - val_loss: 0.4791 - val_accuracy: 0.7673\n",
            "Epoch 6/300\n",
            "73/73 [==============================] - 0s 5ms/step - loss: 0.4584 - accuracy: 0.7755 - val_loss: 0.4473 - val_accuracy: 0.7724\n",
            "Epoch 7/300\n",
            "73/73 [==============================] - 0s 5ms/step - loss: 0.4292 - accuracy: 0.7869 - val_loss: 0.4221 - val_accuracy: 0.7960\n",
            "Epoch 8/300\n",
            "73/73 [==============================] - 0s 5ms/step - loss: 0.4111 - accuracy: 0.7991 - val_loss: 0.4134 - val_accuracy: 0.8025\n",
            "Epoch 9/300\n",
            "73/73 [==============================] - 0s 5ms/step - loss: 0.4057 - accuracy: 0.8025 - val_loss: 0.4053 - val_accuracy: 0.8115\n",
            "Epoch 10/300\n",
            "73/73 [==============================] - 0s 4ms/step - loss: 0.3965 - accuracy: 0.8117 - val_loss: 0.3903 - val_accuracy: 0.8205\n",
            "Epoch 11/300\n",
            "73/73 [==============================] - 0s 5ms/step - loss: 0.3846 - accuracy: 0.8214 - val_loss: 0.3780 - val_accuracy: 0.8210\n",
            "Epoch 12/300\n",
            "73/73 [==============================] - 0s 5ms/step - loss: 0.3705 - accuracy: 0.8269 - val_loss: 0.3737 - val_accuracy: 0.8270\n",
            "Epoch 13/300\n",
            "73/73 [==============================] - 0s 5ms/step - loss: 0.3672 - accuracy: 0.8326 - val_loss: 0.3705 - val_accuracy: 0.8252\n",
            "Epoch 14/300\n",
            "73/73 [==============================] - 0s 5ms/step - loss: 0.3760 - accuracy: 0.8284 - val_loss: 0.3695 - val_accuracy: 0.8420\n",
            "Epoch 15/300\n",
            "73/73 [==============================] - 0s 5ms/step - loss: 0.3558 - accuracy: 0.8450 - val_loss: 0.3516 - val_accuracy: 0.8394\n",
            "Epoch 16/300\n",
            "73/73 [==============================] - 0s 5ms/step - loss: 0.3437 - accuracy: 0.8534 - val_loss: 0.3449 - val_accuracy: 0.8536\n",
            "Epoch 17/300\n",
            "73/73 [==============================] - 0s 5ms/step - loss: 0.3399 - accuracy: 0.8570 - val_loss: 0.3485 - val_accuracy: 0.8437\n",
            "Epoch 18/300\n",
            "73/73 [==============================] - 0s 5ms/step - loss: 0.3486 - accuracy: 0.8487 - val_loss: 0.3440 - val_accuracy: 0.8532\n",
            "Epoch 19/300\n",
            "73/73 [==============================] - 0s 5ms/step - loss: 0.3376 - accuracy: 0.8557 - val_loss: 0.3246 - val_accuracy: 0.8699\n",
            "Epoch 20/300\n",
            "73/73 [==============================] - 0s 5ms/step - loss: 0.3212 - accuracy: 0.8739 - val_loss: 0.3209 - val_accuracy: 0.8738\n",
            "Epoch 21/300\n",
            "73/73 [==============================] - 0s 5ms/step - loss: 0.3189 - accuracy: 0.8732 - val_loss: 0.3676 - val_accuracy: 0.8321\n",
            "Epoch 22/300\n",
            "73/73 [==============================] - 0s 5ms/step - loss: 0.3306 - accuracy: 0.8590 - val_loss: 0.3902 - val_accuracy: 0.8106\n",
            "Epoch 23/300\n",
            "73/73 [==============================] - 0s 4ms/step - loss: 0.3167 - accuracy: 0.8700 - val_loss: 0.3023 - val_accuracy: 0.8828\n",
            "Epoch 24/300\n",
            "73/73 [==============================] - 0s 5ms/step - loss: 0.3007 - accuracy: 0.8838 - val_loss: 0.2989 - val_accuracy: 0.8841\n",
            "Epoch 25/300\n",
            "73/73 [==============================] - 0s 5ms/step - loss: 0.2969 - accuracy: 0.8861 - val_loss: 0.2967 - val_accuracy: 0.8854\n",
            "Epoch 26/300\n",
            "73/73 [==============================] - 0s 5ms/step - loss: 0.3124 - accuracy: 0.8736 - val_loss: 0.3333 - val_accuracy: 0.8540\n",
            "Epoch 27/300\n",
            "73/73 [==============================] - 0s 5ms/step - loss: 0.3020 - accuracy: 0.8805 - val_loss: 0.2865 - val_accuracy: 0.8888\n",
            "Epoch 28/300\n",
            "73/73 [==============================] - 0s 5ms/step - loss: 0.2843 - accuracy: 0.8922 - val_loss: 0.2844 - val_accuracy: 0.8888\n",
            "Epoch 29/300\n",
            "73/73 [==============================] - 0s 4ms/step - loss: 0.2813 - accuracy: 0.8942 - val_loss: 0.2899 - val_accuracy: 0.8742\n",
            "Epoch 30/300\n",
            "73/73 [==============================] - 0s 5ms/step - loss: 0.3006 - accuracy: 0.8794 - val_loss: 0.3159 - val_accuracy: 0.8819\n",
            "Epoch 31/300\n",
            "73/73 [==============================] - 0s 5ms/step - loss: 0.2919 - accuracy: 0.8820 - val_loss: 0.2787 - val_accuracy: 0.8789\n",
            "Epoch 32/300\n",
            "73/73 [==============================] - 0s 5ms/step - loss: 0.2716 - accuracy: 0.8957 - val_loss: 0.2720 - val_accuracy: 0.8948\n",
            "Epoch 33/300\n",
            "73/73 [==============================] - 0s 4ms/step - loss: 0.2719 - accuracy: 0.8964 - val_loss: 0.3017 - val_accuracy: 0.8879\n",
            "Epoch 34/300\n",
            "73/73 [==============================] - 0s 5ms/step - loss: 0.2888 - accuracy: 0.8829 - val_loss: 0.2745 - val_accuracy: 0.8836\n",
            "Epoch 35/300\n",
            "73/73 [==============================] - 0s 5ms/step - loss: 0.2764 - accuracy: 0.8896 - val_loss: 0.2634 - val_accuracy: 0.8952\n",
            "Epoch 36/300\n",
            "73/73 [==============================] - 0s 4ms/step - loss: 0.2600 - accuracy: 0.9007 - val_loss: 0.2602 - val_accuracy: 0.8935\n",
            "Epoch 37/300\n",
            "73/73 [==============================] - 0s 5ms/step - loss: 0.2592 - accuracy: 0.9012 - val_loss: 0.2589 - val_accuracy: 0.8948\n",
            "Epoch 38/300\n",
            "73/73 [==============================] - 0s 5ms/step - loss: 0.2733 - accuracy: 0.8886 - val_loss: 0.2613 - val_accuracy: 0.8918\n",
            "Epoch 39/300\n",
            "73/73 [==============================] - 0s 4ms/step - loss: 0.2648 - accuracy: 0.8966 - val_loss: 0.2530 - val_accuracy: 0.9008\n",
            "Epoch 40/300\n",
            "73/73 [==============================] - 0s 5ms/step - loss: 0.2500 - accuracy: 0.9047 - val_loss: 0.2562 - val_accuracy: 0.9047\n",
            "Epoch 41/300\n",
            "73/73 [==============================] - 0s 5ms/step - loss: 0.2485 - accuracy: 0.9042 - val_loss: 0.2508 - val_accuracy: 0.8987\n",
            "Epoch 42/300\n",
            "73/73 [==============================] - 0s 5ms/step - loss: 0.2670 - accuracy: 0.8911 - val_loss: 0.2762 - val_accuracy: 0.9004\n",
            "Epoch 43/300\n",
            "73/73 [==============================] - 0s 5ms/step - loss: 0.2534 - accuracy: 0.9001 - val_loss: 0.2446 - val_accuracy: 0.9085\n",
            "Epoch 44/300\n",
            "73/73 [==============================] - 0s 5ms/step - loss: 0.2416 - accuracy: 0.9069 - val_loss: 0.2448 - val_accuracy: 0.9073\n",
            "Epoch 45/300\n",
            "73/73 [==============================] - 0s 5ms/step - loss: 0.2413 - accuracy: 0.9074 - val_loss: 0.2440 - val_accuracy: 0.9055\n",
            "Epoch 46/300\n",
            "73/73 [==============================] - 0s 5ms/step - loss: 0.2745 - accuracy: 0.8890 - val_loss: 0.2704 - val_accuracy: 0.8793\n",
            "Epoch 47/300\n",
            "73/73 [==============================] - 0s 5ms/step - loss: 0.2465 - accuracy: 0.9035 - val_loss: 0.2387 - val_accuracy: 0.9073\n",
            "Epoch 48/300\n",
            "73/73 [==============================] - 0s 4ms/step - loss: 0.2343 - accuracy: 0.9115 - val_loss: 0.2448 - val_accuracy: 0.9098\n",
            "Epoch 49/300\n",
            "73/73 [==============================] - 0s 5ms/step - loss: 0.2361 - accuracy: 0.9091 - val_loss: 0.2550 - val_accuracy: 0.9077\n",
            "Epoch 50/300\n",
            "73/73 [==============================] - 0s 5ms/step - loss: 0.2434 - accuracy: 0.9082 - val_loss: 0.2462 - val_accuracy: 0.8914\n",
            "Epoch 51/300\n",
            "73/73 [==============================] - 0s 4ms/step - loss: 0.2389 - accuracy: 0.9056 - val_loss: 0.2339 - val_accuracy: 0.9107\n",
            "Epoch 52/300\n",
            "73/73 [==============================] - 0s 5ms/step - loss: 0.2278 - accuracy: 0.9119 - val_loss: 0.2315 - val_accuracy: 0.9133\n",
            "Epoch 53/300\n",
            "73/73 [==============================] - 0s 5ms/step - loss: 0.2273 - accuracy: 0.9120 - val_loss: 0.2389 - val_accuracy: 0.8978\n",
            "Epoch 54/300\n",
            "73/73 [==============================] - 0s 4ms/step - loss: 0.2451 - accuracy: 0.9037 - val_loss: 0.2526 - val_accuracy: 0.9012\n",
            "Epoch 55/300\n",
            "73/73 [==============================] - 0s 5ms/step - loss: 0.2312 - accuracy: 0.9109 - val_loss: 0.2310 - val_accuracy: 0.9120\n",
            "Epoch 56/300\n",
            "73/73 [==============================] - 0s 5ms/step - loss: 0.2214 - accuracy: 0.9165 - val_loss: 0.2260 - val_accuracy: 0.9124\n",
            "Epoch 57/300\n",
            "73/73 [==============================] - 0s 4ms/step - loss: 0.2222 - accuracy: 0.9143 - val_loss: 0.2443 - val_accuracy: 0.9081\n",
            "Epoch 58/300\n",
            "73/73 [==============================] - 0s 5ms/step - loss: 0.2441 - accuracy: 0.9022 - val_loss: 0.2298 - val_accuracy: 0.9141\n",
            "Epoch 59/300\n",
            "73/73 [==============================] - 0s 4ms/step - loss: 0.2280 - accuracy: 0.9122 - val_loss: 0.2262 - val_accuracy: 0.9128\n",
            "Epoch 60/300\n",
            "73/73 [==============================] - 0s 4ms/step - loss: 0.2174 - accuracy: 0.9173 - val_loss: 0.2224 - val_accuracy: 0.9154\n",
            "Epoch 61/300\n",
            "73/73 [==============================] - 0s 5ms/step - loss: 0.2156 - accuracy: 0.9180 - val_loss: 0.2240 - val_accuracy: 0.9141\n",
            "Epoch 62/300\n",
            "73/73 [==============================] - 0s 5ms/step - loss: 0.2280 - accuracy: 0.9122 - val_loss: 0.2252 - val_accuracy: 0.9146\n",
            "Epoch 63/300\n",
            "73/73 [==============================] - 0s 4ms/step - loss: 0.2171 - accuracy: 0.9156 - val_loss: 0.2197 - val_accuracy: 0.9158\n",
            "Epoch 64/300\n",
            "73/73 [==============================] - 0s 5ms/step - loss: 0.2111 - accuracy: 0.9188 - val_loss: 0.2184 - val_accuracy: 0.9180\n",
            "Epoch 65/300\n",
            "73/73 [==============================] - 0s 5ms/step - loss: 0.2119 - accuracy: 0.9198 - val_loss: 0.2364 - val_accuracy: 0.9103\n",
            "Epoch 66/300\n",
            "73/73 [==============================] - 0s 4ms/step - loss: 0.2220 - accuracy: 0.9139 - val_loss: 0.2178 - val_accuracy: 0.9141\n",
            "Epoch 67/300\n",
            "73/73 [==============================] - 0s 5ms/step - loss: 0.2123 - accuracy: 0.9180 - val_loss: 0.2235 - val_accuracy: 0.9184\n",
            "Epoch 68/300\n",
            "73/73 [==============================] - 0s 4ms/step - loss: 0.2056 - accuracy: 0.9220 - val_loss: 0.2264 - val_accuracy: 0.9146\n",
            "Epoch 69/300\n",
            "73/73 [==============================] - 0s 5ms/step - loss: 0.2055 - accuracy: 0.9210 - val_loss: 0.2278 - val_accuracy: 0.9163\n",
            "Epoch 70/300\n",
            "73/73 [==============================] - 0s 5ms/step - loss: 0.2188 - accuracy: 0.9127 - val_loss: 0.2375 - val_accuracy: 0.9124\n",
            "Epoch 71/300\n",
            "73/73 [==============================] - 0s 5ms/step - loss: 0.2081 - accuracy: 0.9188 - val_loss: 0.2152 - val_accuracy: 0.9219\n",
            "Epoch 72/300\n",
            "73/73 [==============================] - 0s 4ms/step - loss: 0.2009 - accuracy: 0.9234 - val_loss: 0.2106 - val_accuracy: 0.9201\n",
            "Epoch 73/300\n",
            "73/73 [==============================] - 0s 5ms/step - loss: 0.2019 - accuracy: 0.9211 - val_loss: 0.2152 - val_accuracy: 0.9128\n",
            "Epoch 74/300\n",
            "73/73 [==============================] - 0s 5ms/step - loss: 0.2136 - accuracy: 0.9151 - val_loss: 0.2146 - val_accuracy: 0.9180\n",
            "Epoch 75/300\n",
            "73/73 [==============================] - 0s 4ms/step - loss: 0.2055 - accuracy: 0.9206 - val_loss: 0.2247 - val_accuracy: 0.9146\n",
            "Epoch 76/300\n",
            "73/73 [==============================] - 0s 5ms/step - loss: 0.1969 - accuracy: 0.9257 - val_loss: 0.2073 - val_accuracy: 0.9201\n",
            "Epoch 77/300\n",
            "73/73 [==============================] - 0s 5ms/step - loss: 0.1975 - accuracy: 0.9250 - val_loss: 0.2091 - val_accuracy: 0.9146\n",
            "Epoch 78/300\n",
            "73/73 [==============================] - 0s 4ms/step - loss: 0.2112 - accuracy: 0.9165 - val_loss: 0.2645 - val_accuracy: 0.8991\n",
            "Epoch 79/300\n",
            "73/73 [==============================] - 0s 5ms/step - loss: 0.2014 - accuracy: 0.9227 - val_loss: 0.2044 - val_accuracy: 0.9176\n",
            "Epoch 80/300\n",
            "73/73 [==============================] - 0s 4ms/step - loss: 0.1923 - accuracy: 0.9269 - val_loss: 0.2025 - val_accuracy: 0.9176\n",
            "Epoch 81/300\n",
            "73/73 [==============================] - 0s 5ms/step - loss: 0.1937 - accuracy: 0.9260 - val_loss: 0.2035 - val_accuracy: 0.9150\n",
            "Epoch 82/300\n",
            "73/73 [==============================] - 0s 5ms/step - loss: 0.2021 - accuracy: 0.9220 - val_loss: 0.2017 - val_accuracy: 0.9201\n",
            "Epoch 83/300\n",
            "73/73 [==============================] - 0s 4ms/step - loss: 0.1936 - accuracy: 0.9246 - val_loss: 0.2063 - val_accuracy: 0.9227\n",
            "Epoch 84/300\n",
            "73/73 [==============================] - 0s 4ms/step - loss: 0.1881 - accuracy: 0.9280 - val_loss: 0.1985 - val_accuracy: 0.9214\n",
            "Epoch 85/300\n",
            "73/73 [==============================] - 0s 5ms/step - loss: 0.1902 - accuracy: 0.9302 - val_loss: 0.1994 - val_accuracy: 0.9257\n",
            "Epoch 86/300\n",
            "73/73 [==============================] - 0s 5ms/step - loss: 0.1971 - accuracy: 0.9226 - val_loss: 0.2150 - val_accuracy: 0.9081\n",
            "Epoch 87/300\n",
            "73/73 [==============================] - 0s 5ms/step - loss: 0.1886 - accuracy: 0.9286 - val_loss: 0.1982 - val_accuracy: 0.9214\n",
            "Epoch 88/300\n",
            "73/73 [==============================] - 0s 5ms/step - loss: 0.1834 - accuracy: 0.9314 - val_loss: 0.1965 - val_accuracy: 0.9244\n",
            "Epoch 89/300\n",
            "73/73 [==============================] - 0s 4ms/step - loss: 0.1870 - accuracy: 0.9303 - val_loss: 0.2116 - val_accuracy: 0.9158\n",
            "Epoch 90/300\n",
            "73/73 [==============================] - 0s 5ms/step - loss: 0.1893 - accuracy: 0.9280 - val_loss: 0.2022 - val_accuracy: 0.9171\n",
            "Epoch 91/300\n",
            "73/73 [==============================] - 0s 5ms/step - loss: 0.1877 - accuracy: 0.9286 - val_loss: 0.1956 - val_accuracy: 0.9244\n",
            "Epoch 92/300\n",
            "73/73 [==============================] - 0s 5ms/step - loss: 0.1801 - accuracy: 0.9327 - val_loss: 0.1940 - val_accuracy: 0.9227\n",
            "Epoch 93/300\n",
            "73/73 [==============================] - 0s 5ms/step - loss: 0.1819 - accuracy: 0.9318 - val_loss: 0.2068 - val_accuracy: 0.9124\n",
            "Epoch 94/300\n",
            "73/73 [==============================] - 0s 5ms/step - loss: 0.1894 - accuracy: 0.9254 - val_loss: 0.2780 - val_accuracy: 0.8845\n",
            "Epoch 95/300\n",
            "73/73 [==============================] - 0s 4ms/step - loss: 0.1821 - accuracy: 0.9298 - val_loss: 0.1957 - val_accuracy: 0.9244\n",
            "Epoch 96/300\n",
            "73/73 [==============================] - 0s 5ms/step - loss: 0.1771 - accuracy: 0.9332 - val_loss: 0.1903 - val_accuracy: 0.9236\n",
            "Epoch 97/300\n",
            "73/73 [==============================] - 0s 5ms/step - loss: 0.1783 - accuracy: 0.9315 - val_loss: 0.1930 - val_accuracy: 0.9236\n",
            "Epoch 98/300\n",
            "73/73 [==============================] - 0s 4ms/step - loss: 0.1844 - accuracy: 0.9290 - val_loss: 0.1883 - val_accuracy: 0.9219\n",
            "Epoch 99/300\n",
            "73/73 [==============================] - 0s 5ms/step - loss: 0.1770 - accuracy: 0.9346 - val_loss: 0.1874 - val_accuracy: 0.9296\n",
            "Epoch 100/300\n",
            "73/73 [==============================] - 0s 5ms/step - loss: 0.1727 - accuracy: 0.9360 - val_loss: 0.1862 - val_accuracy: 0.9257\n",
            "Epoch 101/300\n",
            "73/73 [==============================] - 0s 4ms/step - loss: 0.1728 - accuracy: 0.9351 - val_loss: 0.1847 - val_accuracy: 0.9279\n",
            "Epoch 102/300\n",
            "73/73 [==============================] - 0s 5ms/step - loss: 0.1790 - accuracy: 0.9309 - val_loss: 0.2007 - val_accuracy: 0.9201\n",
            "Epoch 103/300\n",
            "73/73 [==============================] - 0s 5ms/step - loss: 0.1734 - accuracy: 0.9351 - val_loss: 0.1851 - val_accuracy: 0.9274\n",
            "Epoch 104/300\n",
            "73/73 [==============================] - 0s 4ms/step - loss: 0.1686 - accuracy: 0.9376 - val_loss: 0.1833 - val_accuracy: 0.9296\n",
            "Epoch 105/300\n",
            "73/73 [==============================] - 0s 5ms/step - loss: 0.1698 - accuracy: 0.9377 - val_loss: 0.1867 - val_accuracy: 0.9253\n",
            "Epoch 106/300\n",
            "73/73 [==============================] - 0s 4ms/step - loss: 0.1800 - accuracy: 0.9301 - val_loss: 0.1836 - val_accuracy: 0.9266\n",
            "Epoch 107/300\n",
            "73/73 [==============================] - 0s 4ms/step - loss: 0.1703 - accuracy: 0.9359 - val_loss: 0.1809 - val_accuracy: 0.9304\n",
            "Epoch 108/300\n",
            "73/73 [==============================] - 0s 5ms/step - loss: 0.1660 - accuracy: 0.9381 - val_loss: 0.1808 - val_accuracy: 0.9296\n",
            "Epoch 109/300\n",
            "73/73 [==============================] - 0s 5ms/step - loss: 0.1669 - accuracy: 0.9381 - val_loss: 0.1873 - val_accuracy: 0.9266\n",
            "Epoch 110/300\n",
            "73/73 [==============================] - 0s 5ms/step - loss: 0.1710 - accuracy: 0.9358 - val_loss: 0.1858 - val_accuracy: 0.9274\n",
            "Epoch 111/300\n",
            "73/73 [==============================] - 0s 5ms/step - loss: 0.1667 - accuracy: 0.9383 - val_loss: 0.1795 - val_accuracy: 0.9279\n",
            "Epoch 112/300\n",
            "73/73 [==============================] - 0s 4ms/step - loss: 0.1625 - accuracy: 0.9391 - val_loss: 0.1785 - val_accuracy: 0.9322\n",
            "Epoch 113/300\n",
            "73/73 [==============================] - 0s 4ms/step - loss: 0.1633 - accuracy: 0.9386 - val_loss: 0.1795 - val_accuracy: 0.9304\n",
            "Epoch 114/300\n",
            "73/73 [==============================] - 0s 5ms/step - loss: 0.1659 - accuracy: 0.9384 - val_loss: 0.1801 - val_accuracy: 0.9292\n",
            "Epoch 115/300\n",
            "73/73 [==============================] - 0s 5ms/step - loss: 0.1631 - accuracy: 0.9405 - val_loss: 0.1772 - val_accuracy: 0.9317\n",
            "Epoch 116/300\n",
            "73/73 [==============================] - 0s 5ms/step - loss: 0.1597 - accuracy: 0.9416 - val_loss: 0.1759 - val_accuracy: 0.9317\n",
            "Epoch 117/300\n",
            "73/73 [==============================] - 0s 5ms/step - loss: 0.1610 - accuracy: 0.9401 - val_loss: 0.1769 - val_accuracy: 0.9292\n",
            "Epoch 118/300\n",
            "73/73 [==============================] - 0s 5ms/step - loss: 0.1651 - accuracy: 0.9388 - val_loss: 0.1830 - val_accuracy: 0.9279\n",
            "Epoch 119/300\n",
            "73/73 [==============================] - 0s 5ms/step - loss: 0.1606 - accuracy: 0.9402 - val_loss: 0.1738 - val_accuracy: 0.9330\n",
            "Epoch 120/300\n",
            "73/73 [==============================] - 0s 5ms/step - loss: 0.1564 - accuracy: 0.9431 - val_loss: 0.1783 - val_accuracy: 0.9334\n",
            "Epoch 121/300\n",
            "73/73 [==============================] - 0s 5ms/step - loss: 0.1575 - accuracy: 0.9413 - val_loss: 0.1790 - val_accuracy: 0.9313\n",
            "Epoch 122/300\n",
            "73/73 [==============================] - 0s 5ms/step - loss: 0.1619 - accuracy: 0.9404 - val_loss: 0.1812 - val_accuracy: 0.9296\n",
            "Epoch 123/300\n",
            "73/73 [==============================] - 0s 5ms/step - loss: 0.1580 - accuracy: 0.9417 - val_loss: 0.1724 - val_accuracy: 0.9343\n",
            "Epoch 124/300\n",
            "73/73 [==============================] - 0s 4ms/step - loss: 0.1528 - accuracy: 0.9451 - val_loss: 0.1744 - val_accuracy: 0.9317\n",
            "Epoch 125/300\n",
            "73/73 [==============================] - 0s 4ms/step - loss: 0.1554 - accuracy: 0.9428 - val_loss: 0.1745 - val_accuracy: 0.9365\n",
            "Epoch 126/300\n",
            "73/73 [==============================] - 0s 5ms/step - loss: 0.1587 - accuracy: 0.9421 - val_loss: 0.1714 - val_accuracy: 0.9365\n",
            "Epoch 127/300\n",
            "73/73 [==============================] - 0s 4ms/step - loss: 0.1556 - accuracy: 0.9418 - val_loss: 0.1715 - val_accuracy: 0.9377\n",
            "Epoch 128/300\n",
            "73/73 [==============================] - 0s 5ms/step - loss: 0.1509 - accuracy: 0.9457 - val_loss: 0.1727 - val_accuracy: 0.9386\n",
            "Epoch 129/300\n",
            "73/73 [==============================] - 0s 5ms/step - loss: 0.1535 - accuracy: 0.9437 - val_loss: 0.1745 - val_accuracy: 0.9356\n",
            "Epoch 130/300\n",
            "73/73 [==============================] - 0s 5ms/step - loss: 0.1543 - accuracy: 0.9442 - val_loss: 0.1693 - val_accuracy: 0.9369\n",
            "Epoch 131/300\n",
            "73/73 [==============================] - 0s 5ms/step - loss: 0.1525 - accuracy: 0.9441 - val_loss: 0.1684 - val_accuracy: 0.9356\n",
            "Epoch 132/300\n",
            "73/73 [==============================] - 0s 5ms/step - loss: 0.1483 - accuracy: 0.9474 - val_loss: 0.1676 - val_accuracy: 0.9386\n",
            "Epoch 133/300\n",
            "73/73 [==============================] - 0s 4ms/step - loss: 0.1503 - accuracy: 0.9461 - val_loss: 0.1674 - val_accuracy: 0.9365\n",
            "Epoch 134/300\n",
            "73/73 [==============================] - 0s 4ms/step - loss: 0.1593 - accuracy: 0.9418 - val_loss: 0.1702 - val_accuracy: 0.9365\n",
            "Epoch 135/300\n",
            "73/73 [==============================] - 0s 5ms/step - loss: 0.1493 - accuracy: 0.9460 - val_loss: 0.1796 - val_accuracy: 0.9296\n",
            "Epoch 136/300\n",
            "73/73 [==============================] - 0s 4ms/step - loss: 0.1460 - accuracy: 0.9475 - val_loss: 0.1688 - val_accuracy: 0.9382\n",
            "Epoch 137/300\n",
            "73/73 [==============================] - 0s 5ms/step - loss: 0.1475 - accuracy: 0.9477 - val_loss: 0.1657 - val_accuracy: 0.9365\n",
            "Epoch 138/300\n",
            "73/73 [==============================] - 0s 5ms/step - loss: 0.1491 - accuracy: 0.9462 - val_loss: 0.1676 - val_accuracy: 0.9407\n",
            "Epoch 139/300\n",
            "73/73 [==============================] - 0s 5ms/step - loss: 0.1470 - accuracy: 0.9472 - val_loss: 0.1658 - val_accuracy: 0.9386\n",
            "Epoch 140/300\n",
            "73/73 [==============================] - 0s 4ms/step - loss: 0.1440 - accuracy: 0.9486 - val_loss: 0.1708 - val_accuracy: 0.9330\n",
            "Epoch 141/300\n",
            "73/73 [==============================] - 0s 5ms/step - loss: 0.1454 - accuracy: 0.9479 - val_loss: 0.1661 - val_accuracy: 0.9399\n",
            "Epoch 142/300\n",
            "73/73 [==============================] - 0s 5ms/step - loss: 0.1467 - accuracy: 0.9495 - val_loss: 0.1870 - val_accuracy: 0.9266\n",
            "Epoch 143/300\n",
            "73/73 [==============================] - 0s 5ms/step - loss: 0.1464 - accuracy: 0.9473 - val_loss: 0.1649 - val_accuracy: 0.9390\n",
            "Epoch 144/300\n",
            "73/73 [==============================] - 0s 5ms/step - loss: 0.1416 - accuracy: 0.9497 - val_loss: 0.1647 - val_accuracy: 0.9429\n",
            "Epoch 145/300\n",
            "73/73 [==============================] - 0s 4ms/step - loss: 0.1442 - accuracy: 0.9485 - val_loss: 0.1645 - val_accuracy: 0.9390\n",
            "Epoch 146/300\n",
            "73/73 [==============================] - 0s 4ms/step - loss: 0.1460 - accuracy: 0.9481 - val_loss: 0.1640 - val_accuracy: 0.9425\n",
            "Epoch 147/300\n",
            "73/73 [==============================] - 0s 5ms/step - loss: 0.1425 - accuracy: 0.9496 - val_loss: 0.1621 - val_accuracy: 0.9420\n",
            "Epoch 148/300\n",
            "73/73 [==============================] - 0s 5ms/step - loss: 0.1396 - accuracy: 0.9503 - val_loss: 0.1622 - val_accuracy: 0.9390\n",
            "Epoch 149/300\n",
            "73/73 [==============================] - 0s 5ms/step - loss: 0.1408 - accuracy: 0.9496 - val_loss: 0.1620 - val_accuracy: 0.9399\n",
            "Epoch 150/300\n",
            "73/73 [==============================] - 0s 5ms/step - loss: 0.1439 - accuracy: 0.9477 - val_loss: 0.1628 - val_accuracy: 0.9403\n",
            "Epoch 151/300\n",
            "73/73 [==============================] - 0s 4ms/step - loss: 0.1399 - accuracy: 0.9503 - val_loss: 0.1697 - val_accuracy: 0.9360\n",
            "Epoch 152/300\n",
            "73/73 [==============================] - 0s 5ms/step - loss: 0.1372 - accuracy: 0.9514 - val_loss: 0.1616 - val_accuracy: 0.9399\n",
            "Epoch 153/300\n",
            "73/73 [==============================] - 0s 5ms/step - loss: 0.1392 - accuracy: 0.9506 - val_loss: 0.1709 - val_accuracy: 0.9412\n",
            "Epoch 154/300\n",
            "73/73 [==============================] - 0s 4ms/step - loss: 0.1427 - accuracy: 0.9494 - val_loss: 0.1613 - val_accuracy: 0.9425\n",
            "Epoch 155/300\n",
            "73/73 [==============================] - 0s 4ms/step - loss: 0.1385 - accuracy: 0.9508 - val_loss: 0.1623 - val_accuracy: 0.9438\n",
            "Epoch 156/300\n",
            "73/73 [==============================] - 0s 5ms/step - loss: 0.1359 - accuracy: 0.9525 - val_loss: 0.1642 - val_accuracy: 0.9407\n",
            "Epoch 157/300\n",
            "73/73 [==============================] - 0s 4ms/step - loss: 0.1374 - accuracy: 0.9533 - val_loss: 0.1669 - val_accuracy: 0.9365\n",
            "Epoch 158/300\n",
            "73/73 [==============================] - 0s 4ms/step - loss: 0.1388 - accuracy: 0.9517 - val_loss: 0.1608 - val_accuracy: 0.9407\n",
            "Epoch 159/300\n",
            "73/73 [==============================] - 0s 5ms/step - loss: 0.1376 - accuracy: 0.9512 - val_loss: 0.1605 - val_accuracy: 0.9416\n",
            "Epoch 160/300\n",
            "73/73 [==============================] - 0s 4ms/step - loss: 0.1346 - accuracy: 0.9544 - val_loss: 0.1598 - val_accuracy: 0.9438\n",
            "Epoch 161/300\n",
            "73/73 [==============================] - 0s 4ms/step - loss: 0.1353 - accuracy: 0.9526 - val_loss: 0.1665 - val_accuracy: 0.9403\n",
            "Epoch 162/300\n",
            "73/73 [==============================] - 0s 5ms/step - loss: 0.1369 - accuracy: 0.9526 - val_loss: 0.1603 - val_accuracy: 0.9433\n",
            "Epoch 163/300\n",
            "73/73 [==============================] - 0s 4ms/step - loss: 0.1343 - accuracy: 0.9523 - val_loss: 0.1585 - val_accuracy: 0.9403\n",
            "Epoch 164/300\n",
            "73/73 [==============================] - 0s 4ms/step - loss: 0.1326 - accuracy: 0.9538 - val_loss: 0.1622 - val_accuracy: 0.9429\n",
            "Epoch 165/300\n",
            "73/73 [==============================] - 0s 5ms/step - loss: 0.1343 - accuracy: 0.9533 - val_loss: 0.1643 - val_accuracy: 0.9429\n",
            "Epoch 166/300\n",
            "73/73 [==============================] - 0s 4ms/step - loss: 0.1365 - accuracy: 0.9538 - val_loss: 0.1569 - val_accuracy: 0.9442\n",
            "Epoch 167/300\n",
            "73/73 [==============================] - 0s 4ms/step - loss: 0.1337 - accuracy: 0.9539 - val_loss: 0.1584 - val_accuracy: 0.9450\n",
            "Epoch 168/300\n",
            "73/73 [==============================] - 0s 5ms/step - loss: 0.1317 - accuracy: 0.9539 - val_loss: 0.1588 - val_accuracy: 0.9459\n",
            "Epoch 169/300\n",
            "73/73 [==============================] - 0s 4ms/step - loss: 0.1324 - accuracy: 0.9548 - val_loss: 0.1591 - val_accuracy: 0.9407\n",
            "Epoch 170/300\n",
            "73/73 [==============================] - 0s 5ms/step - loss: 0.1345 - accuracy: 0.9536 - val_loss: 0.1610 - val_accuracy: 0.9395\n",
            "Epoch 171/300\n",
            "73/73 [==============================] - 0s 5ms/step - loss: 0.1322 - accuracy: 0.9548 - val_loss: 0.1577 - val_accuracy: 0.9416\n",
            "Epoch 172/300\n",
            "73/73 [==============================] - 0s 4ms/step - loss: 0.1299 - accuracy: 0.9552 - val_loss: 0.1552 - val_accuracy: 0.9442\n",
            "Epoch 173/300\n",
            "73/73 [==============================] - 0s 4ms/step - loss: 0.1326 - accuracy: 0.9539 - val_loss: 0.1626 - val_accuracy: 0.9433\n",
            "Epoch 174/300\n",
            "73/73 [==============================] - 0s 5ms/step - loss: 0.1324 - accuracy: 0.9540 - val_loss: 0.1576 - val_accuracy: 0.9425\n",
            "Epoch 175/300\n",
            "73/73 [==============================] - 0s 4ms/step - loss: 0.1295 - accuracy: 0.9578 - val_loss: 0.1558 - val_accuracy: 0.9442\n",
            "Epoch 176/300\n",
            "73/73 [==============================] - 0s 4ms/step - loss: 0.1285 - accuracy: 0.9570 - val_loss: 0.1547 - val_accuracy: 0.9459\n",
            "Epoch 177/300\n",
            "73/73 [==============================] - 0s 5ms/step - loss: 0.1309 - accuracy: 0.9566 - val_loss: 0.1624 - val_accuracy: 0.9390\n",
            "Epoch 178/300\n",
            "73/73 [==============================] - 0s 4ms/step - loss: 0.1316 - accuracy: 0.9553 - val_loss: 0.1634 - val_accuracy: 0.9433\n",
            "Epoch 179/300\n",
            "73/73 [==============================] - 0s 5ms/step - loss: 0.1287 - accuracy: 0.9573 - val_loss: 0.1579 - val_accuracy: 0.9463\n",
            "Epoch 180/300\n",
            "73/73 [==============================] - 0s 5ms/step - loss: 0.1271 - accuracy: 0.9576 - val_loss: 0.1553 - val_accuracy: 0.9438\n",
            "Epoch 181/300\n",
            "73/73 [==============================] - 0s 4ms/step - loss: 0.1284 - accuracy: 0.9575 - val_loss: 0.1593 - val_accuracy: 0.9416\n",
            "Epoch 182/300\n",
            "73/73 [==============================] - 0s 5ms/step - loss: 0.1288 - accuracy: 0.9574 - val_loss: 0.1567 - val_accuracy: 0.9425\n",
            "Epoch 183/300\n",
            "73/73 [==============================] - 0s 5ms/step - loss: 0.1283 - accuracy: 0.9566 - val_loss: 0.1558 - val_accuracy: 0.9468\n",
            "Epoch 184/300\n",
            "73/73 [==============================] - 0s 5ms/step - loss: 0.1252 - accuracy: 0.9567 - val_loss: 0.1566 - val_accuracy: 0.9476\n",
            "Epoch 185/300\n",
            "73/73 [==============================] - 0s 4ms/step - loss: 0.1270 - accuracy: 0.9578 - val_loss: 0.1661 - val_accuracy: 0.9365\n",
            "Epoch 186/300\n",
            "73/73 [==============================] - 0s 5ms/step - loss: 0.1284 - accuracy: 0.9549 - val_loss: 0.1553 - val_accuracy: 0.9446\n",
            "Epoch 187/300\n",
            "73/73 [==============================] - 0s 5ms/step - loss: 0.1268 - accuracy: 0.9573 - val_loss: 0.1573 - val_accuracy: 0.9455\n",
            "Epoch 188/300\n",
            "73/73 [==============================] - 0s 4ms/step - loss: 0.1248 - accuracy: 0.9588 - val_loss: 0.1527 - val_accuracy: 0.9446\n",
            "Epoch 189/300\n",
            "73/73 [==============================] - 0s 5ms/step - loss: 0.1251 - accuracy: 0.9583 - val_loss: 0.1540 - val_accuracy: 0.9485\n",
            "Epoch 190/300\n",
            "73/73 [==============================] - 0s 4ms/step - loss: 0.1261 - accuracy: 0.9588 - val_loss: 0.1523 - val_accuracy: 0.9476\n",
            "Epoch 191/300\n",
            "73/73 [==============================] - 0s 4ms/step - loss: 0.1250 - accuracy: 0.9567 - val_loss: 0.1526 - val_accuracy: 0.9480\n",
            "Epoch 192/300\n",
            "73/73 [==============================] - 0s 5ms/step - loss: 0.1239 - accuracy: 0.9595 - val_loss: 0.1557 - val_accuracy: 0.9459\n",
            "Epoch 193/300\n",
            "73/73 [==============================] - 0s 5ms/step - loss: 0.1254 - accuracy: 0.9588 - val_loss: 0.1575 - val_accuracy: 0.9416\n",
            "Epoch 194/300\n",
            "73/73 [==============================] - 0s 4ms/step - loss: 0.1252 - accuracy: 0.9581 - val_loss: 0.1593 - val_accuracy: 0.9446\n",
            "Epoch 195/300\n",
            "73/73 [==============================] - 0s 5ms/step - loss: 0.1231 - accuracy: 0.9599 - val_loss: 0.1538 - val_accuracy: 0.9485\n",
            "Epoch 196/300\n",
            "73/73 [==============================] - 0s 4ms/step - loss: 0.1222 - accuracy: 0.9593 - val_loss: 0.1589 - val_accuracy: 0.9442\n",
            "Epoch 197/300\n",
            "73/73 [==============================] - 0s 4ms/step - loss: 0.1233 - accuracy: 0.9609 - val_loss: 0.1531 - val_accuracy: 0.9472\n",
            "Epoch 198/300\n",
            "73/73 [==============================] - 0s 5ms/step - loss: 0.1242 - accuracy: 0.9585 - val_loss: 0.1554 - val_accuracy: 0.9446\n",
            "Epoch 199/300\n",
            "73/73 [==============================] - 0s 4ms/step - loss: 0.1228 - accuracy: 0.9582 - val_loss: 0.1529 - val_accuracy: 0.9455\n",
            "Epoch 200/300\n",
            "73/73 [==============================] - 0s 4ms/step - loss: 0.1212 - accuracy: 0.9617 - val_loss: 0.1535 - val_accuracy: 0.9450\n",
            "Epoch 201/300\n",
            "73/73 [==============================] - 0s 5ms/step - loss: 0.1226 - accuracy: 0.9611 - val_loss: 0.1532 - val_accuracy: 0.9468\n",
            "Epoch 202/300\n",
            "73/73 [==============================] - 0s 4ms/step - loss: 0.1236 - accuracy: 0.9579 - val_loss: 0.1534 - val_accuracy: 0.9438\n",
            "Epoch 203/300\n",
            "73/73 [==============================] - 0s 5ms/step - loss: 0.1210 - accuracy: 0.9608 - val_loss: 0.1535 - val_accuracy: 0.9472\n",
            "Epoch 204/300\n",
            "73/73 [==============================] - 0s 5ms/step - loss: 0.1202 - accuracy: 0.9611 - val_loss: 0.1562 - val_accuracy: 0.9455\n",
            "Epoch 205/300\n",
            "73/73 [==============================] - 0s 4ms/step - loss: 0.1214 - accuracy: 0.9598 - val_loss: 0.1515 - val_accuracy: 0.9476\n",
            "Epoch 206/300\n",
            "73/73 [==============================] - 0s 5ms/step - loss: 0.1220 - accuracy: 0.9602 - val_loss: 0.1516 - val_accuracy: 0.9463\n",
            "Epoch 207/300\n",
            "73/73 [==============================] - 0s 5ms/step - loss: 0.1200 - accuracy: 0.9614 - val_loss: 0.1519 - val_accuracy: 0.9472\n",
            "Epoch 208/300\n",
            "73/73 [==============================] - 0s 4ms/step - loss: 0.1187 - accuracy: 0.9617 - val_loss: 0.1567 - val_accuracy: 0.9463\n",
            "Epoch 209/300\n",
            "73/73 [==============================] - 0s 5ms/step - loss: 0.1204 - accuracy: 0.9616 - val_loss: 0.1510 - val_accuracy: 0.9498\n",
            "Epoch 210/300\n",
            "73/73 [==============================] - 0s 5ms/step - loss: 0.1204 - accuracy: 0.9618 - val_loss: 0.1536 - val_accuracy: 0.9442\n",
            "Epoch 211/300\n",
            "73/73 [==============================] - 0s 4ms/step - loss: 0.1192 - accuracy: 0.9602 - val_loss: 0.1500 - val_accuracy: 0.9485\n",
            "Epoch 212/300\n",
            "73/73 [==============================] - 0s 5ms/step - loss: 0.1175 - accuracy: 0.9633 - val_loss: 0.1506 - val_accuracy: 0.9485\n",
            "Epoch 213/300\n",
            "73/73 [==============================] - 0s 5ms/step - loss: 0.1186 - accuracy: 0.9621 - val_loss: 0.1522 - val_accuracy: 0.9455\n",
            "Epoch 214/300\n",
            "73/73 [==============================] - 0s 4ms/step - loss: 0.1200 - accuracy: 0.9614 - val_loss: 0.1527 - val_accuracy: 0.9472\n",
            "Epoch 215/300\n",
            "73/73 [==============================] - 0s 4ms/step - loss: 0.1185 - accuracy: 0.9623 - val_loss: 0.1519 - val_accuracy: 0.9485\n",
            "Epoch 216/300\n",
            "73/73 [==============================] - 0s 5ms/step - loss: 0.1170 - accuracy: 0.9625 - val_loss: 0.1511 - val_accuracy: 0.9480\n",
            "Epoch 217/300\n",
            "73/73 [==============================] - 0s 4ms/step - loss: 0.1191 - accuracy: 0.9612 - val_loss: 0.1536 - val_accuracy: 0.9480\n",
            "Epoch 218/300\n",
            "73/73 [==============================] - 0s 5ms/step - loss: 0.1181 - accuracy: 0.9624 - val_loss: 0.1527 - val_accuracy: 0.9489\n",
            "Epoch 219/300\n",
            "73/73 [==============================] - 0s 5ms/step - loss: 0.1174 - accuracy: 0.9623 - val_loss: 0.1495 - val_accuracy: 0.9450\n",
            "Epoch 220/300\n",
            "73/73 [==============================] - 0s 4ms/step - loss: 0.1159 - accuracy: 0.9638 - val_loss: 0.1507 - val_accuracy: 0.9463\n",
            "Epoch 221/300\n",
            "73/73 [==============================] - 0s 5ms/step - loss: 0.1170 - accuracy: 0.9630 - val_loss: 0.1587 - val_accuracy: 0.9450\n",
            "Epoch 222/300\n",
            "73/73 [==============================] - 0s 4ms/step - loss: 0.1177 - accuracy: 0.9607 - val_loss: 0.1490 - val_accuracy: 0.9476\n",
            "Epoch 223/300\n",
            "73/73 [==============================] - 0s 4ms/step - loss: 0.1167 - accuracy: 0.9634 - val_loss: 0.1498 - val_accuracy: 0.9459\n",
            "Epoch 224/300\n",
            "73/73 [==============================] - 0s 5ms/step - loss: 0.1150 - accuracy: 0.9639 - val_loss: 0.1485 - val_accuracy: 0.9455\n",
            "Epoch 225/300\n",
            "73/73 [==============================] - 0s 5ms/step - loss: 0.1165 - accuracy: 0.9633 - val_loss: 0.1495 - val_accuracy: 0.9455\n",
            "Epoch 226/300\n",
            "73/73 [==============================] - 0s 4ms/step - loss: 0.1162 - accuracy: 0.9654 - val_loss: 0.1516 - val_accuracy: 0.9480\n",
            "Epoch 227/300\n",
            "73/73 [==============================] - 0s 4ms/step - loss: 0.1146 - accuracy: 0.9637 - val_loss: 0.1493 - val_accuracy: 0.9468\n",
            "Epoch 228/300\n",
            "73/73 [==============================] - 0s 4ms/step - loss: 0.1142 - accuracy: 0.9650 - val_loss: 0.1489 - val_accuracy: 0.9493\n",
            "Epoch 229/300\n",
            "73/73 [==============================] - 0s 4ms/step - loss: 0.1147 - accuracy: 0.9647 - val_loss: 0.1564 - val_accuracy: 0.9450\n",
            "Epoch 230/300\n",
            "73/73 [==============================] - 0s 5ms/step - loss: 0.1158 - accuracy: 0.9630 - val_loss: 0.1514 - val_accuracy: 0.9438\n",
            "Epoch 231/300\n",
            "73/73 [==============================] - 0s 5ms/step - loss: 0.1142 - accuracy: 0.9628 - val_loss: 0.1501 - val_accuracy: 0.9485\n",
            "Epoch 232/300\n",
            "73/73 [==============================] - 0s 4ms/step - loss: 0.1137 - accuracy: 0.9647 - val_loss: 0.1524 - val_accuracy: 0.9450\n",
            "Epoch 233/300\n",
            "73/73 [==============================] - 0s 5ms/step - loss: 0.1138 - accuracy: 0.9645 - val_loss: 0.1482 - val_accuracy: 0.9489\n",
            "Epoch 234/300\n",
            "73/73 [==============================] - 0s 5ms/step - loss: 0.1141 - accuracy: 0.9655 - val_loss: 0.1494 - val_accuracy: 0.9450\n",
            "Epoch 235/300\n",
            "73/73 [==============================] - 0s 4ms/step - loss: 0.1132 - accuracy: 0.9637 - val_loss: 0.1489 - val_accuracy: 0.9463\n",
            "Epoch 236/300\n",
            "73/73 [==============================] - 0s 5ms/step - loss: 0.1127 - accuracy: 0.9653 - val_loss: 0.1481 - val_accuracy: 0.9468\n",
            "Epoch 237/300\n",
            "73/73 [==============================] - 0s 4ms/step - loss: 0.1134 - accuracy: 0.9640 - val_loss: 0.1494 - val_accuracy: 0.9502\n",
            "Epoch 238/300\n",
            "73/73 [==============================] - 0s 4ms/step - loss: 0.1141 - accuracy: 0.9645 - val_loss: 0.1476 - val_accuracy: 0.9485\n",
            "Epoch 239/300\n",
            "73/73 [==============================] - 0s 4ms/step - loss: 0.1124 - accuracy: 0.9652 - val_loss: 0.1494 - val_accuracy: 0.9489\n",
            "Epoch 240/300\n",
            "73/73 [==============================] - 0s 5ms/step - loss: 0.1116 - accuracy: 0.9659 - val_loss: 0.1481 - val_accuracy: 0.9480\n",
            "Epoch 241/300\n",
            "73/73 [==============================] - 0s 5ms/step - loss: 0.1124 - accuracy: 0.9650 - val_loss: 0.1641 - val_accuracy: 0.9412\n",
            "Epoch 242/300\n",
            "73/73 [==============================] - 0s 5ms/step - loss: 0.1132 - accuracy: 0.9652 - val_loss: 0.1471 - val_accuracy: 0.9476\n",
            "Epoch 243/300\n",
            "73/73 [==============================] - 0s 5ms/step - loss: 0.1113 - accuracy: 0.9654 - val_loss: 0.1487 - val_accuracy: 0.9463\n",
            "Epoch 244/300\n",
            "73/73 [==============================] - 0s 5ms/step - loss: 0.1108 - accuracy: 0.9665 - val_loss: 0.1481 - val_accuracy: 0.9476\n",
            "Epoch 245/300\n",
            "73/73 [==============================] - 0s 5ms/step - loss: 0.1119 - accuracy: 0.9657 - val_loss: 0.1490 - val_accuracy: 0.9476\n",
            "Epoch 246/300\n",
            "73/73 [==============================] - 0s 5ms/step - loss: 0.1117 - accuracy: 0.9660 - val_loss: 0.1474 - val_accuracy: 0.9463\n",
            "Epoch 247/300\n",
            "73/73 [==============================] - 0s 4ms/step - loss: 0.1106 - accuracy: 0.9663 - val_loss: 0.1489 - val_accuracy: 0.9498\n",
            "Epoch 248/300\n",
            "73/73 [==============================] - 0s 5ms/step - loss: 0.1103 - accuracy: 0.9665 - val_loss: 0.1473 - val_accuracy: 0.9476\n",
            "Epoch 249/300\n",
            "73/73 [==============================] - 0s 5ms/step - loss: 0.1108 - accuracy: 0.9669 - val_loss: 0.1477 - val_accuracy: 0.9498\n",
            "Epoch 250/300\n",
            "73/73 [==============================] - 0s 4ms/step - loss: 0.1115 - accuracy: 0.9655 - val_loss: 0.1480 - val_accuracy: 0.9472\n",
            "Epoch 251/300\n",
            "73/73 [==============================] - 0s 5ms/step - loss: 0.1104 - accuracy: 0.9657 - val_loss: 0.1468 - val_accuracy: 0.9472\n",
            "Epoch 252/300\n",
            "73/73 [==============================] - 0s 5ms/step - loss: 0.1091 - accuracy: 0.9660 - val_loss: 0.1473 - val_accuracy: 0.9450\n",
            "Epoch 253/300\n",
            "73/73 [==============================] - 0s 4ms/step - loss: 0.1102 - accuracy: 0.9677 - val_loss: 0.1523 - val_accuracy: 0.9472\n",
            "Epoch 254/300\n",
            "73/73 [==============================] - 0s 5ms/step - loss: 0.1107 - accuracy: 0.9652 - val_loss: 0.1481 - val_accuracy: 0.9472\n",
            "Epoch 255/300\n",
            "73/73 [==============================] - 0s 5ms/step - loss: 0.1094 - accuracy: 0.9672 - val_loss: 0.1541 - val_accuracy: 0.9472\n",
            "Epoch 256/300\n",
            "73/73 [==============================] - 0s 4ms/step - loss: 0.1088 - accuracy: 0.9669 - val_loss: 0.1473 - val_accuracy: 0.9472\n",
            "Epoch 257/300\n",
            "73/73 [==============================] - 0s 5ms/step - loss: 0.1099 - accuracy: 0.9668 - val_loss: 0.1469 - val_accuracy: 0.9472\n",
            "Epoch 258/300\n",
            "73/73 [==============================] - 0s 5ms/step - loss: 0.1089 - accuracy: 0.9668 - val_loss: 0.1465 - val_accuracy: 0.9468\n",
            "Epoch 259/300\n",
            "73/73 [==============================] - 0s 4ms/step - loss: 0.1083 - accuracy: 0.9676 - val_loss: 0.1495 - val_accuracy: 0.9480\n",
            "Epoch 260/300\n",
            "73/73 [==============================] - 0s 5ms/step - loss: 0.1080 - accuracy: 0.9672 - val_loss: 0.1468 - val_accuracy: 0.9455\n",
            "Epoch 261/300\n",
            "73/73 [==============================] - 0s 5ms/step - loss: 0.1086 - accuracy: 0.9667 - val_loss: 0.1476 - val_accuracy: 0.9476\n",
            "Epoch 262/300\n",
            "73/73 [==============================] - 0s 4ms/step - loss: 0.1090 - accuracy: 0.9661 - val_loss: 0.1466 - val_accuracy: 0.9476\n",
            "Epoch 263/300\n",
            "73/73 [==============================] - 0s 5ms/step - loss: 0.1082 - accuracy: 0.9659 - val_loss: 0.1495 - val_accuracy: 0.9463\n",
            "Epoch 264/300\n",
            "73/73 [==============================] - 0s 4ms/step - loss: 0.1076 - accuracy: 0.9682 - val_loss: 0.1472 - val_accuracy: 0.9463\n",
            "Epoch 265/300\n",
            "73/73 [==============================] - 0s 4ms/step - loss: 0.1079 - accuracy: 0.9674 - val_loss: 0.1474 - val_accuracy: 0.9472\n",
            "Epoch 266/300\n",
            "73/73 [==============================] - 0s 4ms/step - loss: 0.1088 - accuracy: 0.9672 - val_loss: 0.1468 - val_accuracy: 0.9480\n",
            "Epoch 267/300\n",
            "73/73 [==============================] - 0s 4ms/step - loss: 0.1071 - accuracy: 0.9691 - val_loss: 0.1464 - val_accuracy: 0.9472\n",
            "Epoch 268/300\n",
            "73/73 [==============================] - 0s 5ms/step - loss: 0.1068 - accuracy: 0.9684 - val_loss: 0.1466 - val_accuracy: 0.9485\n",
            "Epoch 269/300\n",
            "73/73 [==============================] - 0s 5ms/step - loss: 0.1080 - accuracy: 0.9669 - val_loss: 0.1488 - val_accuracy: 0.9489\n",
            "Epoch 270/300\n",
            "73/73 [==============================] - 0s 5ms/step - loss: 0.1074 - accuracy: 0.9675 - val_loss: 0.1458 - val_accuracy: 0.9480\n",
            "Epoch 271/300\n",
            "73/73 [==============================] - 0s 5ms/step - loss: 0.1062 - accuracy: 0.9689 - val_loss: 0.1476 - val_accuracy: 0.9476\n",
            "Epoch 272/300\n",
            "73/73 [==============================] - 0s 5ms/step - loss: 0.1059 - accuracy: 0.9684 - val_loss: 0.1462 - val_accuracy: 0.9468\n",
            "Epoch 273/300\n",
            "73/73 [==============================] - 0s 4ms/step - loss: 0.1071 - accuracy: 0.9670 - val_loss: 0.1449 - val_accuracy: 0.9493\n",
            "Epoch 274/300\n",
            "73/73 [==============================] - 0s 4ms/step - loss: 0.1067 - accuracy: 0.9674 - val_loss: 0.1459 - val_accuracy: 0.9476\n",
            "Epoch 275/300\n",
            "73/73 [==============================] - 0s 4ms/step - loss: 0.1058 - accuracy: 0.9689 - val_loss: 0.1460 - val_accuracy: 0.9476\n",
            "Epoch 276/300\n",
            "73/73 [==============================] - 0s 5ms/step - loss: 0.1053 - accuracy: 0.9678 - val_loss: 0.1531 - val_accuracy: 0.9442\n",
            "Epoch 277/300\n",
            "73/73 [==============================] - 0s 5ms/step - loss: 0.1060 - accuracy: 0.9682 - val_loss: 0.1499 - val_accuracy: 0.9455\n",
            "Epoch 278/300\n",
            "73/73 [==============================] - 0s 5ms/step - loss: 0.1064 - accuracy: 0.9671 - val_loss: 0.1478 - val_accuracy: 0.9476\n",
            "Epoch 279/300\n",
            "73/73 [==============================] - 0s 5ms/step - loss: 0.1053 - accuracy: 0.9691 - val_loss: 0.1458 - val_accuracy: 0.9463\n",
            "Epoch 280/300\n",
            "73/73 [==============================] - 0s 4ms/step - loss: 0.1046 - accuracy: 0.9689 - val_loss: 0.1445 - val_accuracy: 0.9468\n",
            "Epoch 281/300\n",
            "73/73 [==============================] - 0s 4ms/step - loss: 0.1058 - accuracy: 0.9681 - val_loss: 0.1493 - val_accuracy: 0.9498\n",
            "Epoch 282/300\n",
            "73/73 [==============================] - 0s 4ms/step - loss: 0.1057 - accuracy: 0.9689 - val_loss: 0.1453 - val_accuracy: 0.9502\n",
            "Epoch 283/300\n",
            "73/73 [==============================] - 0s 4ms/step - loss: 0.1040 - accuracy: 0.9683 - val_loss: 0.1447 - val_accuracy: 0.9472\n",
            "Epoch 284/300\n",
            "73/73 [==============================] - 0s 5ms/step - loss: 0.1045 - accuracy: 0.9689 - val_loss: 0.1470 - val_accuracy: 0.9463\n",
            "Epoch 285/300\n",
            "73/73 [==============================] - 0s 5ms/step - loss: 0.1047 - accuracy: 0.9683 - val_loss: 0.1457 - val_accuracy: 0.9485\n",
            "Epoch 286/300\n",
            "73/73 [==============================] - 0s 4ms/step - loss: 0.1046 - accuracy: 0.9692 - val_loss: 0.1449 - val_accuracy: 0.9485\n",
            "Epoch 287/300\n",
            "73/73 [==============================] - 0s 5ms/step - loss: 0.1038 - accuracy: 0.9685 - val_loss: 0.1449 - val_accuracy: 0.9480\n",
            "Epoch 288/300\n",
            "73/73 [==============================] - 0s 5ms/step - loss: 0.1037 - accuracy: 0.9710 - val_loss: 0.1488 - val_accuracy: 0.9493\n",
            "Epoch 289/300\n",
            "73/73 [==============================] - 0s 5ms/step - loss: 0.1043 - accuracy: 0.9686 - val_loss: 0.1468 - val_accuracy: 0.9476\n",
            "Epoch 290/300\n",
            "73/73 [==============================] - 0s 4ms/step - loss: 0.1045 - accuracy: 0.9686 - val_loss: 0.1452 - val_accuracy: 0.9485\n",
            "Epoch 291/300\n",
            "73/73 [==============================] - 0s 5ms/step - loss: 0.1025 - accuracy: 0.9705 - val_loss: 0.1454 - val_accuracy: 0.9485\n",
            "Epoch 292/300\n",
            "73/73 [==============================] - 0s 5ms/step - loss: 0.1030 - accuracy: 0.9699 - val_loss: 0.1453 - val_accuracy: 0.9476\n",
            "Epoch 293/300\n",
            "73/73 [==============================] - 0s 4ms/step - loss: 0.1042 - accuracy: 0.9698 - val_loss: 0.1442 - val_accuracy: 0.9480\n",
            "Epoch 294/300\n",
            "73/73 [==============================] - 0s 5ms/step - loss: 0.1038 - accuracy: 0.9685 - val_loss: 0.1476 - val_accuracy: 0.9502\n",
            "Epoch 295/300\n",
            "73/73 [==============================] - 0s 5ms/step - loss: 0.1029 - accuracy: 0.9693 - val_loss: 0.1444 - val_accuracy: 0.9498\n",
            "Epoch 296/300\n",
            "73/73 [==============================] - 0s 5ms/step - loss: 0.1024 - accuracy: 0.9704 - val_loss: 0.1453 - val_accuracy: 0.9493\n",
            "Epoch 297/300\n",
            "73/73 [==============================] - 0s 5ms/step - loss: 0.1028 - accuracy: 0.9692 - val_loss: 0.1451 - val_accuracy: 0.9498\n",
            "Epoch 298/300\n",
            "73/73 [==============================] - 0s 4ms/step - loss: 0.1024 - accuracy: 0.9704 - val_loss: 0.1481 - val_accuracy: 0.9480\n",
            "Epoch 299/300\n",
            "73/73 [==============================] - 0s 4ms/step - loss: 0.1019 - accuracy: 0.9709 - val_loss: 0.1487 - val_accuracy: 0.9480\n",
            "Epoch 300/300\n",
            "73/73 [==============================] - 0s 5ms/step - loss: 0.1017 - accuracy: 0.9700 - val_loss: 0.1529 - val_accuracy: 0.9489\n"
          ],
          "name": "stdout"
        }
      ]
    },
    {
      "cell_type": "code",
      "metadata": {
        "id": "QaCy6KbsWGme",
        "colab_type": "code",
        "colab": {
          "base_uri": "https://localhost:8080/",
          "height": 1000
        },
        "outputId": "f829753c-3e65-46e6-b570-e7186fb7afda"
      },
      "source": [
        "def pretty_plot(history, field, fn):\n",
        "  def plot(data, val_data, title):\n",
        "    plt.plot(range(1, len(data)+1), data, label='train')\n",
        "    plt.plot(range(1, len(data)+1), val_data, label='validation')\n",
        "    plt.xlabel('Epoch')\n",
        "    plt.ylabel(field)\n",
        "    plt.xticks(range(1, len(data)+1, 10))\n",
        "    plt.title(title)\n",
        "    plt.legend()\n",
        "    plt.show()\n",
        "\n",
        "  data = history.history[field]\n",
        "  val_data = history.history['val_' + field]\n",
        "  tail = int(0.15 * len(data))\n",
        "\n",
        "  plot(data, val_data, \"{} over epochs (best {:06.4f})\".format(field, fn(val_data)))\n",
        "  plot(data[-tail:], val_data[-tail:], \"{} over last {} epochs\".format(field, tail))\n",
        "\n",
        "\n",
        "pretty_plot(history, 'loss', lambda x: min(x))\n",
        "pretty_plot(history, 'accuracy', lambda x: max(x))\n"
      ],
      "execution_count": 57,
      "outputs": [
        {
          "output_type": "display_data",
          "data": {
            "image/png": "[encoded data removed]",
            "text/plain": [
              "<Figure size 432x288 with 1 Axes>"
            ]
          },
          "metadata": {
            "tags": [],
            "needs_background": "light"
          }
        },
        {
          "output_type": "display_data",
          "data": {
            "image/png": "[encoded data removed]",
            "text/plain": [
              "<Figure size 432x288 with 1 Axes>"
            ]
          },
          "metadata": {
            "tags": [],
            "needs_background": "light"
          }
        },
        {
          "output_type": "display_data",
          "data": {
            "image/png": "[encoded data removed]",
            "text/plain": [
              "<Figure size 432x288 with 1 Axes>"
            ]
          },
          "metadata": {
            "tags": [],
            "needs_background": "light"
          }
        },
        {
          "output_type": "display_data",
          "data": {
            "image/png": "[encoded data removed]",
            "text/plain": [
              "<Figure size 432x288 with 1 Axes>"
            ]
          },
          "metadata": {
            "tags": [],
            "needs_background": "light"
          }
        }
      ]
    },
    {
      "cell_type": "markdown",
      "metadata": {
        "id": "AUalbpxx1JaK",
        "colab_type": "text"
      },
      "source": [
        "# Replication ResNet"
      ]
    },
    {
      "cell_type": "code",
      "metadata": {
        "id": "49QkCdhaW7r5",
        "colab_type": "code",
        "colab": {
          "base_uri": "https://localhost:8080/",
          "height": 1000
        },
        "outputId": "ef37929b-4f8e-40f4-bd64-9596d0054eb2"
      },
      "source": [
        "def residual_block(X, kernels, stride):\n",
        "  out = keras.layers.Conv1D(kernels, stride, padding='same')(X)\n",
        "  out = keras.layers.ReLU()(out)\n",
        "  out = keras.layers.Conv1D(kernels, stride, padding='same')(out)\n",
        "  out = keras.layers.add([X, out])\n",
        "  out = keras.layers.ReLU()(out)\n",
        "  out = keras.layers.MaxPool1D(5, 2)(out)\n",
        "  return out\n",
        "\n",
        "kernels = 32\n",
        "stride = 5\n",
        "\n",
        "inputs = keras.layers.Input([187,1])\n",
        "X = keras.layers.Conv1D(kernels, stride)(inputs)\n",
        "X = residual_block(X, kernels, stride)\n",
        "X = residual_block(X, kernels, stride)\n",
        "X = residual_block(X, kernels, stride)\n",
        "X = residual_block(X, kernels, stride)\n",
        "X = residual_block(X, kernels, stride)\n",
        "X = keras.layers.Flatten()(X)\n",
        "X = keras.layers.Dense(32, activation='relu')(X)\n",
        "X = keras.layers.Dense(32, activation='relu')(X)\n",
        "output = keras.layers.Dense(1, activation='sigmoid')(X)\n",
        "\n",
        "model = keras.Model(inputs=inputs, outputs=output)\n",
        "model.summary()"
      ],
      "execution_count": null,
      "outputs": [
        {
          "output_type": "stream",
          "text": [
            "Model: \"model_3\"\n",
            "__________________________________________________________________________________________________\n",
            "Layer (type)                    Output Shape         Param #     Connected to                     \n",
            "==================================================================================================\n",
            "input_4 (InputLayer)            [(None, 187, 1)]     0                                            \n",
            "__________________________________________________________________________________________________\n",
            "conv1d_35 (Conv1D)              (None, 183, 32)      192         input_4[0][0]                    \n",
            "__________________________________________________________________________________________________\n",
            "conv1d_36 (Conv1D)              (None, 183, 32)      5152        conv1d_35[0][0]                  \n",
            "__________________________________________________________________________________________________\n",
            "re_lu_30 (ReLU)                 (None, 183, 32)      0           conv1d_36[0][0]                  \n",
            "__________________________________________________________________________________________________\n",
            "conv1d_37 (Conv1D)              (None, 183, 32)      5152        re_lu_30[0][0]                   \n",
            "__________________________________________________________________________________________________\n",
            "add_15 (Add)                    (None, 183, 32)      0           conv1d_35[0][0]                  \n",
            "                                                                 conv1d_37[0][0]                  \n",
            "__________________________________________________________________________________________________\n",
            "re_lu_31 (ReLU)                 (None, 183, 32)      0           add_15[0][0]                     \n",
            "__________________________________________________________________________________________________\n",
            "max_pooling1d_15 (MaxPooling1D) (None, 90, 32)       0           re_lu_31[0][0]                   \n",
            "__________________________________________________________________________________________________\n",
            "conv1d_38 (Conv1D)              (None, 90, 32)       5152        max_pooling1d_15[0][0]           \n",
            "__________________________________________________________________________________________________\n",
            "re_lu_32 (ReLU)                 (None, 90, 32)       0           conv1d_38[0][0]                  \n",
            "__________________________________________________________________________________________________\n",
            "conv1d_39 (Conv1D)              (None, 90, 32)       5152        re_lu_32[0][0]                   \n",
            "__________________________________________________________________________________________________\n",
            "add_16 (Add)                    (None, 90, 32)       0           max_pooling1d_15[0][0]           \n",
            "                                                                 conv1d_39[0][0]                  \n",
            "__________________________________________________________________________________________________\n",
            "re_lu_33 (ReLU)                 (None, 90, 32)       0           add_16[0][0]                     \n",
            "__________________________________________________________________________________________________\n",
            "max_pooling1d_16 (MaxPooling1D) (None, 43, 32)       0           re_lu_33[0][0]                   \n",
            "__________________________________________________________________________________________________\n",
            "conv1d_40 (Conv1D)              (None, 43, 32)       5152        max_pooling1d_16[0][0]           \n",
            "__________________________________________________________________________________________________\n",
            "re_lu_34 (ReLU)                 (None, 43, 32)       0           conv1d_40[0][0]                  \n",
            "__________________________________________________________________________________________________\n",
            "conv1d_41 (Conv1D)              (None, 43, 32)       5152        re_lu_34[0][0]                   \n",
            "__________________________________________________________________________________________________\n",
            "add_17 (Add)                    (None, 43, 32)       0           max_pooling1d_16[0][0]           \n",
            "                                                                 conv1d_41[0][0]                  \n",
            "__________________________________________________________________________________________________\n",
            "re_lu_35 (ReLU)                 (None, 43, 32)       0           add_17[0][0]                     \n",
            "__________________________________________________________________________________________________\n",
            "max_pooling1d_17 (MaxPooling1D) (None, 20, 32)       0           re_lu_35[0][0]                   \n",
            "__________________________________________________________________________________________________\n",
            "conv1d_42 (Conv1D)              (None, 20, 32)       5152        max_pooling1d_17[0][0]           \n",
            "__________________________________________________________________________________________________\n",
            "re_lu_36 (ReLU)                 (None, 20, 32)       0           conv1d_42[0][0]                  \n",
            "__________________________________________________________________________________________________\n",
            "conv1d_43 (Conv1D)              (None, 20, 32)       5152        re_lu_36[0][0]                   \n",
            "__________________________________________________________________________________________________\n",
            "add_18 (Add)                    (None, 20, 32)       0           max_pooling1d_17[0][0]           \n",
            "                                                                 conv1d_43[0][0]                  \n",
            "__________________________________________________________________________________________________\n",
            "re_lu_37 (ReLU)                 (None, 20, 32)       0           add_18[0][0]                     \n",
            "__________________________________________________________________________________________________\n",
            "max_pooling1d_18 (MaxPooling1D) (None, 8, 32)        0           re_lu_37[0][0]                   \n",
            "__________________________________________________________________________________________________\n",
            "conv1d_44 (Conv1D)              (None, 8, 32)        5152        max_pooling1d_18[0][0]           \n",
            "__________________________________________________________________________________________________\n",
            "re_lu_38 (ReLU)                 (None, 8, 32)        0           conv1d_44[0][0]                  \n",
            "__________________________________________________________________________________________________\n",
            "conv1d_45 (Conv1D)              (None, 8, 32)        5152        re_lu_38[0][0]                   \n",
            "__________________________________________________________________________________________________\n",
            "add_19 (Add)                    (None, 8, 32)        0           max_pooling1d_18[0][0]           \n",
            "                                                                 conv1d_45[0][0]                  \n",
            "__________________________________________________________________________________________________\n",
            "re_lu_39 (ReLU)                 (None, 8, 32)        0           add_19[0][0]                     \n",
            "__________________________________________________________________________________________________\n",
            "max_pooling1d_19 (MaxPooling1D) (None, 2, 32)        0           re_lu_39[0][0]                   \n",
            "__________________________________________________________________________________________________\n",
            "flatten_3 (Flatten)             (None, 64)           0           max_pooling1d_19[0][0]           \n",
            "__________________________________________________________________________________________________\n",
            "dense_57 (Dense)                (None, 32)           2080        flatten_3[0][0]                  \n",
            "__________________________________________________________________________________________________\n",
            "dense_58 (Dense)                (None, 32)           1056        dense_57[0][0]                   \n",
            "__________________________________________________________________________________________________\n",
            "dense_59 (Dense)                (None, 1)            33          dense_58[0][0]                   \n",
            "==================================================================================================\n",
            "Total params: 54,881\n",
            "Trainable params: 54,881\n",
            "Non-trainable params: 0\n",
            "__________________________________________________________________________________________________\n"
          ],
          "name": "stdout"
        }
      ]
    },
    {
      "cell_type": "code",
      "metadata": {
        "id": "KdXicMm8n8Vp",
        "colab_type": "code",
        "colab": {
          "base_uri": "https://localhost:8080/",
          "height": 1000
        },
        "outputId": "aed42105-8338-4bb8-93a7-30a90cbf1e51"
      },
      "source": [
        "X_ptbdbl_train = np.expand_dims(X_ptbdb_train, -1)\n",
        "y_ptbdbl_train = np.expand_dims(y_ptbdb_train, -1)\n",
        "X_ptbdbl_val = np.expand_dims(X_ptbdb_val, -1)\n",
        "y_ptbdbl_val = np.expand_dims(y_ptbdb_val, -1)\n",
        "\n",
        "optimizer = keras.optimizers.Adam(lr=0.001)\n",
        "model.compile(optimizer=optimizer, loss='binary_crossentropy', metrics=['accuracy'])\n",
        "history = model.fit(X_ptbdbl_train, y_ptbdbl_train, validation_data=(X_ptbdbl_val, y_ptbdbl_val), batch_size=128, epochs=50)"
      ],
      "execution_count": null,
      "outputs": [
        {
          "output_type": "stream",
          "text": [
            "Epoch 1/50\n",
            "73/73 [==============================] - 1s 11ms/step - loss: 0.4831 - accuracy: 0.7453 - val_loss: 0.3770 - val_accuracy: 0.8471\n",
            "Epoch 2/50\n",
            "73/73 [==============================] - 1s 7ms/step - loss: 0.3199 - accuracy: 0.8679 - val_loss: 0.2569 - val_accuracy: 0.8995\n",
            "Epoch 3/50\n",
            "73/73 [==============================] - 1s 7ms/step - loss: 0.2122 - accuracy: 0.9191 - val_loss: 0.1714 - val_accuracy: 0.9485\n",
            "Epoch 4/50\n",
            "73/73 [==============================] - 1s 7ms/step - loss: 0.1679 - accuracy: 0.9342 - val_loss: 0.1350 - val_accuracy: 0.9515\n",
            "Epoch 5/50\n",
            "73/73 [==============================] - 0s 7ms/step - loss: 0.1155 - accuracy: 0.9564 - val_loss: 0.1482 - val_accuracy: 0.9472\n",
            "Epoch 6/50\n",
            "73/73 [==============================] - 1s 7ms/step - loss: 0.1081 - accuracy: 0.9585 - val_loss: 0.0758 - val_accuracy: 0.9747\n",
            "Epoch 7/50\n",
            "73/73 [==============================] - 1s 7ms/step - loss: 0.0684 - accuracy: 0.9782 - val_loss: 0.0650 - val_accuracy: 0.9794\n",
            "Epoch 8/50\n",
            "73/73 [==============================] - 1s 7ms/step - loss: 0.0664 - accuracy: 0.9779 - val_loss: 0.0698 - val_accuracy: 0.9811\n",
            "Epoch 9/50\n",
            "73/73 [==============================] - 1s 7ms/step - loss: 0.0491 - accuracy: 0.9848 - val_loss: 0.0556 - val_accuracy: 0.9833\n",
            "Epoch 10/50\n",
            "73/73 [==============================] - 1s 7ms/step - loss: 0.0352 - accuracy: 0.9887 - val_loss: 0.0479 - val_accuracy: 0.9858\n",
            "Epoch 11/50\n",
            "73/73 [==============================] - 1s 7ms/step - loss: 0.0456 - accuracy: 0.9838 - val_loss: 0.0721 - val_accuracy: 0.9747\n",
            "Epoch 12/50\n",
            "73/73 [==============================] - 1s 7ms/step - loss: 0.0363 - accuracy: 0.9877 - val_loss: 0.0499 - val_accuracy: 0.9824\n",
            "Epoch 13/50\n",
            "73/73 [==============================] - 1s 7ms/step - loss: 0.0235 - accuracy: 0.9913 - val_loss: 0.0474 - val_accuracy: 0.9841\n",
            "Epoch 14/50\n",
            "73/73 [==============================] - 1s 7ms/step - loss: 0.0245 - accuracy: 0.9911 - val_loss: 0.0498 - val_accuracy: 0.9841\n",
            "Epoch 15/50\n",
            "73/73 [==============================] - 1s 7ms/step - loss: 0.0218 - accuracy: 0.9932 - val_loss: 0.0416 - val_accuracy: 0.9875\n",
            "Epoch 16/50\n",
            "73/73 [==============================] - 1s 7ms/step - loss: 0.0393 - accuracy: 0.9874 - val_loss: 0.0393 - val_accuracy: 0.9867\n",
            "Epoch 17/50\n",
            "73/73 [==============================] - 1s 7ms/step - loss: 0.0244 - accuracy: 0.9926 - val_loss: 0.0341 - val_accuracy: 0.9897\n",
            "Epoch 18/50\n",
            "73/73 [==============================] - 1s 7ms/step - loss: 0.0320 - accuracy: 0.9892 - val_loss: 0.0375 - val_accuracy: 0.9875\n",
            "Epoch 19/50\n",
            "73/73 [==============================] - 1s 7ms/step - loss: 0.0085 - accuracy: 0.9974 - val_loss: 0.0341 - val_accuracy: 0.9944\n",
            "Epoch 20/50\n",
            "73/73 [==============================] - 1s 7ms/step - loss: 0.0147 - accuracy: 0.9941 - val_loss: 0.0340 - val_accuracy: 0.9918\n",
            "Epoch 21/50\n",
            "73/73 [==============================] - 1s 7ms/step - loss: 0.0126 - accuracy: 0.9953 - val_loss: 0.0444 - val_accuracy: 0.9897\n",
            "Epoch 22/50\n",
            "73/73 [==============================] - 1s 7ms/step - loss: 0.0173 - accuracy: 0.9940 - val_loss: 0.0565 - val_accuracy: 0.9850\n",
            "Epoch 23/50\n",
            "73/73 [==============================] - 1s 7ms/step - loss: 0.0137 - accuracy: 0.9961 - val_loss: 0.0540 - val_accuracy: 0.9875\n",
            "Epoch 24/50\n",
            "73/73 [==============================] - 1s 7ms/step - loss: 0.0104 - accuracy: 0.9962 - val_loss: 0.0287 - val_accuracy: 0.9931\n",
            "Epoch 25/50\n",
            "73/73 [==============================] - 1s 7ms/step - loss: 0.0058 - accuracy: 0.9981 - val_loss: 0.0339 - val_accuracy: 0.9936\n",
            "Epoch 26/50\n",
            "73/73 [==============================] - 1s 7ms/step - loss: 0.0043 - accuracy: 0.9989 - val_loss: 0.0334 - val_accuracy: 0.9940\n",
            "Epoch 27/50\n",
            "73/73 [==============================] - 1s 7ms/step - loss: 0.0070 - accuracy: 0.9977 - val_loss: 0.0469 - val_accuracy: 0.9888\n",
            "Epoch 28/50\n",
            "73/73 [==============================] - 1s 7ms/step - loss: 0.0123 - accuracy: 0.9957 - val_loss: 0.0314 - val_accuracy: 0.9918\n",
            "Epoch 29/50\n",
            "73/73 [==============================] - 1s 7ms/step - loss: 0.0056 - accuracy: 0.9981 - val_loss: 0.0291 - val_accuracy: 0.9948\n",
            "Epoch 30/50\n",
            "73/73 [==============================] - 1s 7ms/step - loss: 0.0093 - accuracy: 0.9963 - val_loss: 0.0427 - val_accuracy: 0.9923\n",
            "Epoch 31/50\n",
            "73/73 [==============================] - 1s 7ms/step - loss: 0.0117 - accuracy: 0.9961 - val_loss: 0.0617 - val_accuracy: 0.9871\n",
            "Epoch 32/50\n",
            "73/73 [==============================] - 1s 7ms/step - loss: 0.0217 - accuracy: 0.9925 - val_loss: 0.0278 - val_accuracy: 0.9940\n",
            "Epoch 33/50\n",
            "73/73 [==============================] - 1s 7ms/step - loss: 0.0057 - accuracy: 0.9983 - val_loss: 0.0249 - val_accuracy: 0.9966\n",
            "Epoch 34/50\n",
            "73/73 [==============================] - 1s 7ms/step - loss: 0.0059 - accuracy: 0.9983 - val_loss: 0.0429 - val_accuracy: 0.9918\n",
            "Epoch 35/50\n",
            "73/73 [==============================] - 1s 7ms/step - loss: 0.0102 - accuracy: 0.9966 - val_loss: 0.0580 - val_accuracy: 0.9880\n",
            "Epoch 36/50\n",
            "73/73 [==============================] - 1s 7ms/step - loss: 0.0083 - accuracy: 0.9967 - val_loss: 0.0280 - val_accuracy: 0.9931\n",
            "Epoch 37/50\n",
            "73/73 [==============================] - 1s 7ms/step - loss: 0.0031 - accuracy: 0.9989 - val_loss: 0.0294 - val_accuracy: 0.9953\n",
            "Epoch 38/50\n",
            "73/73 [==============================] - 1s 7ms/step - loss: 0.0018 - accuracy: 0.9996 - val_loss: 0.0392 - val_accuracy: 0.9940\n",
            "Epoch 39/50\n",
            "73/73 [==============================] - 1s 7ms/step - loss: 0.0179 - accuracy: 0.9942 - val_loss: 0.0376 - val_accuracy: 0.9914\n",
            "Epoch 40/50\n",
            "73/73 [==============================] - 1s 7ms/step - loss: 0.0048 - accuracy: 0.9985 - val_loss: 0.0273 - val_accuracy: 0.9927\n",
            "Epoch 41/50\n",
            "73/73 [==============================] - 1s 7ms/step - loss: 0.0014 - accuracy: 0.9998 - val_loss: 0.0291 - val_accuracy: 0.9953\n",
            "Epoch 42/50\n",
            "73/73 [==============================] - 1s 7ms/step - loss: 3.7720e-04 - accuracy: 0.9999 - val_loss: 0.0355 - val_accuracy: 0.9948\n",
            "Epoch 43/50\n",
            "73/73 [==============================] - 1s 7ms/step - loss: 2.1219e-04 - accuracy: 1.0000 - val_loss: 0.0295 - val_accuracy: 0.9961\n",
            "Epoch 44/50\n",
            "73/73 [==============================] - 1s 7ms/step - loss: 1.0615e-04 - accuracy: 1.0000 - val_loss: 0.0306 - val_accuracy: 0.9961\n",
            "Epoch 45/50\n",
            "73/73 [==============================] - 1s 7ms/step - loss: 8.6966e-05 - accuracy: 1.0000 - val_loss: 0.0312 - val_accuracy: 0.9961\n",
            "Epoch 46/50\n",
            "73/73 [==============================] - 1s 7ms/step - loss: 6.0328e-05 - accuracy: 1.0000 - val_loss: 0.0316 - val_accuracy: 0.9961\n",
            "Epoch 47/50\n",
            "73/73 [==============================] - 1s 7ms/step - loss: 4.8928e-05 - accuracy: 1.0000 - val_loss: 0.0328 - val_accuracy: 0.9961\n",
            "Epoch 48/50\n",
            "73/73 [==============================] - 1s 7ms/step - loss: 4.1079e-05 - accuracy: 1.0000 - val_loss: 0.0333 - val_accuracy: 0.9961\n",
            "Epoch 49/50\n",
            "73/73 [==============================] - 1s 7ms/step - loss: 3.6450e-05 - accuracy: 1.0000 - val_loss: 0.0341 - val_accuracy: 0.9961\n",
            "Epoch 50/50\n",
            "73/73 [==============================] - 1s 7ms/step - loss: 3.1149e-05 - accuracy: 1.0000 - val_loss: 0.0342 - val_accuracy: 0.9961\n"
          ],
          "name": "stdout"
        }
      ]
    },
    {
      "cell_type": "code",
      "metadata": {
        "id": "RY2Qa8Z8p_ep",
        "colab_type": "code",
        "colab": {
          "base_uri": "https://localhost:8080/",
          "height": 1000
        },
        "outputId": "44f2c3a1-2f35-4a1a-d7b7-e95fe999ce51"
      },
      "source": [
        "pretty_plot(history, 'loss')\n",
        "pretty_plot(history, 'accuracy')"
      ],
      "execution_count": null,
      "outputs": [
        {
          "output_type": "display_data",
          "data": {
            "image/png": "[encoded data removed]",
            "text/plain": [
              "<Figure size 432x288 with 1 Axes>"
            ]
          },
          "metadata": {
            "tags": [],
            "needs_background": "light"
          }
        },
        {
          "output_type": "display_data",
          "data": {
            "image/png": "[encoded data removed]",
            "text/plain": [
              "<Figure size 432x288 with 1 Axes>"
            ]
          },
          "metadata": {
            "tags": [],
            "needs_background": "light"
          }
        },
        {
          "output_type": "display_data",
          "data": {
            "image/png": "[encoded data removed]",
            "text/plain": [
              "<Figure size 432x288 with 1 Axes>"
            ]
          },
          "metadata": {
            "tags": [],
            "needs_background": "light"
          }
        },
        {
          "output_type": "display_data",
          "data": {
            "image/png": "[encoded data removed]",
            "text/plain": [
              "<Figure size 432x288 with 1 Axes>"
            ]
          },
          "metadata": {
            "tags": [],
            "needs_background": "light"
          }
        }
      ]
    },
    {
      "cell_type": "code",
      "metadata": {
        "id": "Dfqgt1B-rFru",
        "colab_type": "code",
        "colab": {}
      },
      "source": [
        ""
      ],
      "execution_count": null,
      "outputs": []
    }
  ]
}